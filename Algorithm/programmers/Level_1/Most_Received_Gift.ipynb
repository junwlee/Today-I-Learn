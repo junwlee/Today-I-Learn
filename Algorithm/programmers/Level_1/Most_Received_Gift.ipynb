{
 "cells": [
  {
   "metadata": {},
   "cell_type": "markdown",
   "source": "# Ex 1",
   "id": "6cccbf420fc1eea5"
  },
  {
   "metadata": {},
   "cell_type": "markdown",
   "source": [
    "- friends: [\"muzi\", \"ryan\", \"frodo\", \"neo\"]\n",
    "- gifts: [\"muzi frodo\", \"muzi frodo\", \"ryan muzi\", \"ryan muzi\", \"ryan muzi\", \"frodo muzi\", \"frodo ryan\", \"neo muzi\"]\n",
    "- result: 2"
   ],
   "id": "2198d1a2b79ce159"
  },
  {
   "metadata": {
    "ExecuteTime": {
     "end_time": "2024-06-12T12:41:41.218369Z",
     "start_time": "2024-06-12T12:41:41.213024Z"
    }
   },
   "cell_type": "code",
   "source": [
    "def solution(friends, gifts):\n",
    "    names = [name.split() for name in gifts]\n",
    "\n",
    "    exchange_record = dict()\n",
    "    for name in names:\n",
    "        giver, receiver = name\n",
    "        if giver not in exchange_record:\n",
    "            exchange_record[giver] = {'given': [], 'received': []}\n",
    "        if receiver not in exchange_record:\n",
    "            exchange_record[receiver] = {'given': [], 'received': []}\n",
    "\n",
    "        exchange_record[giver]['given'].append(receiver)\n",
    "        exchange_record[receiver]['received'].append(giver)\n",
    "\n",
    "    gift_score = [0] * len(friends)\n",
    "    for friend in exchange_record:\n",
    "        score = len(exchange_record[friend]['given']) - len(exchange_record[friend]['received'])\n",
    "        gift_score[friends.index(friend)] += score\n",
    "    N = len(friends)\n",
    "    next_month = [[0] * N for _ in range(N)]\n",
    "    for friend in exchange_record:\n",
    "        for name in exchange_record[friend]['given']:\n",
    "            if exchange_record[friend]['given'].count(name) > exchange_record[friend]['received'].count(name):\n",
    "                next_month[friends.index(name)][friends.index(friend)] += 1\n",
    "    answer = [0] * len(friends)\n",
    "    for i in range(N):\n",
    "        total = 0\n",
    "        for j in range(N):\n",
    "            total += next_month[j][i]\n",
    "        answer[i] += total\n",
    "    return max(answer)\n",
    "\n",
    "friends = [\"muzi\", \"ryan\", \"frodo\", \"neo\"]\n",
    "gifts = [\"muzi frodo\", \"muzi frodo\", \"ryan muzi\", \"ryan muzi\", \"ryan muzi\", \"frodo muzi\", \"frodo ryan\", \"neo muzi\"]\n",
    "print(solution(friends, gifts))"
   ],
   "id": "c09ffe13e0e49b27",
   "outputs": [
    {
     "name": "stdout",
     "output_type": "stream",
     "text": [
      "3\n"
     ]
    }
   ],
   "execution_count": 25
  }
 ],
 "metadata": {
  "kernelspec": {
   "display_name": "Python 3",
   "language": "python",
   "name": "python3"
  },
  "language_info": {
   "codemirror_mode": {
    "name": "ipython",
    "version": 2
   },
   "file_extension": ".py",
   "mimetype": "text/x-python",
   "name": "python",
   "nbconvert_exporter": "python",
   "pygments_lexer": "ipython2",
   "version": "2.7.6"
  }
 },
 "nbformat": 4,
 "nbformat_minor": 5
}
