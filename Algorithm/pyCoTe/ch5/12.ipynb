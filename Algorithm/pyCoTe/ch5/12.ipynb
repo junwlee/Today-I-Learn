{
 "cells": [
  {
   "cell_type": "code",
   "execution_count": 2,
   "metadata": {},
   "outputs": [
    {
     "name": "stdout",
     "output_type": "stream",
     "text": [
      "[4, 3, 1, 1, 0]\n",
      "[3, 2, 1, 0]\n"
     ]
    }
   ],
   "source": [
    "# Answer1\n",
    "\n",
    "def solution(prices):\n",
    "    n = len(prices)\n",
    "    # 결과를 저장할 배열, 모든 가격이 떨어지지 않은 기간을 초기값으로 설정합니다.\n",
    "    answer = [0] * n\n",
    "    # 가격이 떨어지지 않은 시점들을 관리할 스택을 초기화합니다.\n",
    "    stack = []\n",
    "\n",
    "    # 가격 배열을 순회합니다.\n",
    "    for i, price in enumerate(prices):\n",
    "        # 스택이 비어있지 않고, 현재 가격이 스택의 가장 위에 있는 가격보다 낮은 경우\n",
    "        while stack and price < prices[stack[-1]]:\n",
    "            j = stack.pop() # 스택에서 가격이 떨어진 시점을 꺼냅니다.\n",
    "            answer[j] = i - j # 해당 시점부터 가격이 떨어지지 않은 기간을 계산하여 결과 배열에 저장합니다.\n",
    "        stack.append(i) # 현재 시점을 스택에 추가합니다.\n",
    "\n",
    "    # 스택에 남아 있는 시점에 대해, 전체 기간에서 해당 시점을 뺀 값을 계산하여 결과 배열에 저장합니다.\n",
    "    while stack:\n",
    "        j = stack.pop()\n",
    "        answer[j] = n - 1 - j\n",
    "\n",
    "    return answer\n",
    "\n",
    "prices1 = [1,2,3,2,3]\n",
    "print( solution(prices1) )\n",
    "\n",
    "princes2 = [1,6,9,5]\n",
    "print( solution(princes2) )"
   ]
  },
  {
   "cell_type": "markdown",
   "metadata": {},
   "source": [
    "## 해석\n",
    "\n",
    "- 가격 비교 및 계산: \n",
    "    - while stack and price < prices[stack[-1]]: 현재 가격이 스택에 저장된 마지막 가격보다 낮은지 확인.\n",
    "      만약 낮다면, 가격이 떨어진 것으로 간주하고 해당 시점부터 현재 시점까지의 기간을 계산하여 answer 배열에 저장.\n",
    "- 스택에 시점 추가: \n",
    "    - stack.append(i): 현재 시점을 스택에 추가.\n",
    "      이는 가격이 떨어지지 않은 시점으로 간주.\n",
    "- 남은 시점 처리: \n",
    "    - while stack: 순회를 마친 후 스택에 남아 있는 모든 시점에 대해 처리.\n",
    "      이 시점들은 가격이 끝까지 떨어지지 않은 경우이므로, 전체 기간에서 해당 시점을 뺀 값을 결과 배열에 저장."
   ]
  },
  {
   "cell_type": "code",
   "execution_count": 2,
   "metadata": {},
   "outputs": [
    {
     "name": "stdout",
     "output_type": "stream",
     "text": [
      "[4, 3, 1, 1, 0]\n",
      "[3, 2, 1, 0]\n"
     ]
    }
   ],
   "source": [
    "# Answer2\n",
    "\n",
    "def solution(prices):\n",
    "    n = len(prices)\n",
    "    stack = []\n",
    "    answer = [0] * n\n",
    "    for i in range(n):\n",
    "        while stack != [] and stack[-1][1] > prices[i]:\n",
    "            past, _ = stack.pop()\n",
    "            answer[past] = i - past\n",
    "        stack.append([i, prices[i]])\n",
    "    for i, s in stack:\n",
    "        answer[i] = n - 1 - i\n",
    "    return answer\n",
    "\n",
    "prices1 = [1,2,3,2,3]\n",
    "print( solution(prices1) )\n",
    "\n",
    "princes2 = [1,6,9,5]\n",
    "print( solution(princes2) )"
   ]
  }
 ],
 "metadata": {
  "kernelspec": {
   "display_name": "Python 3",
   "language": "python",
   "name": "python3"
  },
  "language_info": {
   "codemirror_mode": {
    "name": "ipython",
    "version": 3
   },
   "file_extension": ".py",
   "mimetype": "text/x-python",
   "name": "python",
   "nbconvert_exporter": "python",
   "pygments_lexer": "ipython3",
   "version": "3.11.8"
  }
 },
 "nbformat": 4,
 "nbformat_minor": 2
}
