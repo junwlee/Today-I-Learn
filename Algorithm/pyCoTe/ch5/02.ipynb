{
 "cells": [
  {
   "cell_type": "code",
   "execution_count": 2,
   "metadata": {},
   "outputs": [
    {
     "name": "stdout",
     "output_type": "stream",
     "text": [
      "[9, 8, 7, 6, 5, 4, 3, 2, 1, 0, -1]\n"
     ]
    }
   ],
   "source": [
    "def soluttion(arr):\n",
    "    st = set(arr) # 중복제거\n",
    "    lst = list(st)\n",
    "    lst.sort(reverse=True) # 내림차순 정렬\n",
    "    return lst\n",
    "\n",
    "print(soluttion([1,1,2,2,3,4,5,-1,0,4,6,6,7,8,9]))"
   ]
  },
  {
   "cell_type": "markdown",
   "metadata": {},
   "source": [
    "# 팁\n",
    "1. 굳이 직접 작성할 필요가 없는 함수는 파이썬 내장함수를 사용하자."
   ]
  }
 ],
 "metadata": {
  "kernelspec": {
   "display_name": "Python 3",
   "language": "python",
   "name": "python3"
  },
  "language_info": {
   "codemirror_mode": {
    "name": "ipython",
    "version": 3
   },
   "file_extension": ".py",
   "mimetype": "text/x-python",
   "name": "python",
   "nbconvert_exporter": "python",
   "pygments_lexer": "ipython3",
   "version": "3.11.8"
  }
 },
 "nbformat": 4,
 "nbformat_minor": 2
}
