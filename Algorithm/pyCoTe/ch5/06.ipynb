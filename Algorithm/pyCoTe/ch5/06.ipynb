{
 "cells": [
  {
   "cell_type": "code",
   "execution_count": 4,
   "metadata": {},
   "outputs": [
    {
     "name": "stdout",
     "output_type": "stream",
     "text": [
      "[3, 4, 2, 1, 5]\n"
     ]
    }
   ],
   "source": [
    "def solution(N, stages):\n",
    "    challenger = [0] * (N + 2)\n",
    "    for stage in stages:\n",
    "        challenger[stage] += 1\n",
    "\n",
    "    fails = {} # ex) 스테이지 1 : 실패율 1/8\n",
    "    total = len(stages) # 총 플레이어 수\n",
    "\n",
    "    for stage in range(1, N+1):\n",
    "        if stage == 0:\n",
    "            fails[stage] = 0\n",
    "        else:\n",
    "            fails[stage] = challenger[stage] / total\n",
    "            total -= challenger[stage] # 다음 스테이지 실패율을 구하기 위해 현재 스테이지의 인원을 뺌\n",
    "\n",
    "    result = sorted(fails, key=lambda x : fails[x], reverse=True)\n",
    "\n",
    "    return result\n",
    "\n",
    "print(solution(5, [2,1,2,6,2,4,3,3]))"
   ]
  },
  {
   "cell_type": "code",
   "execution_count": 5,
   "metadata": {},
   "outputs": [],
   "source": [
    "# Answer1\n",
    "\n",
    "def solution(N, stages):\n",
    "    challenger = [0] * (N + 2) # 스테이지의 인덱스를 맞추기 위해 N+2의 길이를 가지는 리스트 초기화\n",
    "    for stage in stages:\n",
    "        challenger[stage] += 1 # 각 스테이지별 도달한 플레이어 수 카운트\n",
    "\n",
    "    fails = {} # 스테이지별 실패율 저장\n",
    "    total = len(stages) # 총 플레이어 수\n",
    "\n",
    "    for stage in range(1, N+1):\n",
    "        if total == 0: # 스테이지에 도달한 플레이어가 없는 경우\n",
    "            fails[stage] = 0\n",
    "        else:\n",
    "            fails[stage] = challenger[stage] / total # 실패율 계산\n",
    "            total -= challenger[stage] # 다음 스테이지의 실패율을 구하기 위해 현재 스테이지의 인원을 뺌\n",
    "\n",
    "    # 실패율을 기준으로 스테이지 번호 내림차순 정렬\n",
    "    # 실패율이 같은 경우는 스테이지 번호가 작은 것부터 오름차순 정렬됨\n",
    "    result = sorted(fails, key=lambda x: (-fails[x], x))\n",
    "\n",
    "    return result\n"
   ]
  },
  {
   "cell_type": "code",
   "execution_count": null,
   "metadata": {},
   "outputs": [],
   "source": [
    "# Answer 2\n",
    "\n",
    "def solution(N, stages):\n",
    "    # 각 스테이지에 머물러 있는 플레이어 수를 계산\n",
    "    stage_counts = [0] * (N + 1)\n",
    "    for stage in stages:\n",
    "        if stage <= N: # 마지막 스테이지(N)까지만 카운트\n",
    "            stage_counts[stage-1] += 1\n",
    "            \n",
    "    result = []\n",
    "    total_players = len(stages)\n",
    "    for i in range(N):\n",
    "        if total_players > 0:\n",
    "            fail_rate = stage_counts[i] / total_players\n",
    "            total_players -= stage_counts[i] # 다음 스테이지를 위해 전체 플레이어 수 갱신\n",
    "        else:\n",
    "            fail_rate = 0\n",
    "        result.append((i + 1, fail_rate)) # 스테이지 번호와 실패율을 튜플로 저장\n",
    "\n",
    "    # 실패율이 높은 순으로 정렬, 실패율이 같다면 스테이지 번호가 낮은 순으로 정렬\n",
    "    result.sort(key=lambda x: x[1], reverse=True)\n",
    "    \n",
    "    return [stage[0] for stage in result] # 스테이지 번호만 추출하여 반환\n"
   ]
  }
 ],
 "metadata": {
  "kernelspec": {
   "display_name": "Python 3",
   "language": "python",
   "name": "python3"
  },
  "language_info": {
   "codemirror_mode": {
    "name": "ipython",
    "version": 3
   },
   "file_extension": ".py",
   "mimetype": "text/x-python",
   "name": "python",
   "nbconvert_exporter": "python",
   "pygments_lexer": "ipython3",
   "version": "3.11.8"
  }
 },
 "nbformat": 4,
 "nbformat_minor": 2
}
