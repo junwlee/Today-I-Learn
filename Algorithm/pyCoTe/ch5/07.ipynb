{
 "cells": [
  {
   "cell_type": "markdown",
   "metadata": {},
   "source": [
    "[문제 원본](https://school.programmers.co.kr/learn/courses/30/lessons/49994)"
   ]
  },
  {
   "cell_type": "code",
   "execution_count": null,
   "metadata": {},
   "outputs": [],
   "source": [
    "# Answer\n",
    "\n",
    "def is_valid_move(nx, ny) : # ➊ 좌표를 벗어나는지 체크하는 함수\n",
    "  return 0 <= nx < 11 and 0 <= ny < 11\n",
    " \n",
    "def update_location(x, y, dir) : # ➋ 명령어를 통해 다음 좌표를 결정\n",
    "  if dir == 'U':\n",
    "    nx, ny = x, y + 1\n",
    "  elif dir == 'D':\n",
    "    nx, ny = x, y - 1\n",
    "  elif dir == 'L':\n",
    "    nx, ny = x - 1, y\n",
    "  elif dir == 'R':\n",
    "    nx, ny = x + 1, y\n",
    "  return nx, ny\n",
    "\n",
    "def solution(dirs):\n",
    "  x, y = 5, 5 # 원점 이동을 통해 음수 좌표 문제를 해결\n",
    "  ans = set( ) # ➌ 겹치는 좌표는 1개로 처리하기 위함\n",
    "\n",
    "  for dir in dirs : # ➍ 주어진 명령어로 움직이면서 좌표 저장\n",
    "    nx, ny = update_location(x, y, dir)\n",
    "    if not is_valid_move(nx, ny) : # ➎ 벗어난 좌표는 인정하지 않음\n",
    "      continue\n",
    "    # ➏ A에서 B로 간 경우 B에서 A도 추가해야 함(총 경로의 개수는 방향성이 없음)\n",
    "    ans.add((x, y, nx, ny))\n",
    "    ans.add((nx, ny, x, y))\n",
    "    x, y = nx, ny # ➐ 좌표를 이동했으므로 업데이트\n",
    "\n",
    "  print(ans)\n",
    "  return len(ans)/2\n",
    "\n",
    "print( solution(\"ULURRDLLU\") )\n",
    "print( solution(\"LULLLLLLU\") )"
   ]
  },
  {
   "cell_type": "markdown",
   "metadata": {},
   "source": [
    "## 개념 공부\n",
    "\n",
    "- \"if not is_valid_move(nx, ny): continue\" 구문 :\n",
    "    -  is_valid_move 함수의 반환 값이 False일 경우, 그 이후의 코드를 실행하지 않고 for 루프의 다음 반복으로 넘어감.\n",
    "    - 반대로, is_valid_move 함수가 True를 반환하면, 즉 if 문의 조건이 False가 되어 continue 문은 실행되지 않고, 이후의 코드가 정상적으로 실행됨."
   ]
  },
  {
   "cell_type": "markdown",
   "metadata": {},
   "source": [
    "## 해설\n",
    "\n",
    "- 변수 nx와 ny는 다음 위치, 즉 새로운 x좌표와 y좌표를 의미\n",
    "\n",
    "- 다음 위치를 미리 계산해서 nx와 ny에 저장하는 이유 :\n",
    "    1. 유효성 검사 : \n",
    "    - 캐릭터가 이동할 다음 위치가 좌표평면의 경계 내에 있는지 확인하기 위해서\n",
    "    - 이동하려는 위치가 유효하지 않다면(좌표평면을 벗어난다면), 그 이동은 무시하고 다음 명령어로 넘어감.\n",
    "    2. 중복 경로 확인 : \n",
    "    - 캐릭터가 처음 걸어본 길만 계산하기 위해서는, 현재 위치에서 다음 위치로의 이동이 이전에 발생했는지 확인해야 함. \n",
    "    - nx와 ny를 사용하여 이동할 다음 위치를 미리 계산함으로써, 이동 전과 후의 위치를 조합하여 이동 경로를 나타낼 수 있고, 이 경로가 이미 존재하는지 집합을 통해 확인할 수 있음.\n",
    "\n",
    "- 경로의 양방향 기록은 계산의 정확성을 위한 방법론적 선택\n",
    "  - 처음 그 길을 걸었을 때와 돌아올 때를 별개로 기록해두지 않는다면, 나중에 그 길을 다시 걸을 때 어느 방향으로든 처음 걷는 것인지를 구별할 수 없을 것."
   ]
  },
  {
   "cell_type": "code",
   "execution_count": null,
   "metadata": {},
   "outputs": [],
   "source": [
    "# Answer2\n",
    "\n",
    "def solution(dirs):\n",
    "    moves = {'U': (0, 1), 'D': (0, -1), 'R': (1, 0), 'L': (-1, 0)}\n",
    "    path = set()\n",
    "    x, y = 0, 0\n",
    "\n",
    "    for dir in dirs:\n",
    "        nx, ny = x + moves[dir][0], y + moves[dir][1] # 대괄호를 사용하여 딕셔너리 내부의 복합 데이터 구조에 접근\n",
    "        if -5 <= nx <= 5 and -5 <= ny <= 5:\n",
    "            path.add((x, y, nx, ny))\n",
    "            path.add((nx, ny, x, y))\n",
    "            x, y = nx, ny\n",
    "\n",
    "    return len(path) / 2\n",
    "\n",
    "print( solution(\"ULURRDLLU\") )\n",
    "print( solution(\"LULLLLLLU\") )\n",
    "\n",
    "# Commentary\n",
    "# 조건문이 거짓인 경우(좌표를 벗어나는 명령), 해당 이동은 경로에 추가되지 않으며, for 반복문은 다음 명령어를 처리하기 위해 계속 진행\n",
    "# 따라서, 코드는 좌표를 벗어나는 명령어를 무시하고, 그런 명령어가 있어도 다음 명령어들을 계속해서 처리"
   ]
  },
  {
   "cell_type": "code",
   "execution_count": null,
   "metadata": {},
   "outputs": [],
   "source": [
    "# Answer\n",
    "\n",
    "def solution(dirs: str) -> int:\n",
    "    move = {\"U\": (0, 1), \"D\": (0, -1), \"L\": (-1, 0), \"R\": (1, 0)}\n",
    "    moved = set()\n",
    "\n",
    "    cnt = 0\n",
    "    x, y = 0, 0\n",
    "    for dir in dirs:\n",
    "        dx, dy = move[dir]\n",
    "        nx, ny = x + dx, y + dy\n",
    "        if nx < -5 or nx > 5 or ny < -5 or ny > 5:\n",
    "            continue\n",
    "\n",
    "        min_coord = min(x, nx), min(y, ny)\n",
    "        max_coord = max(x, nx), max(y, ny)\n",
    "        if (min_coord, max_coord) not in moved:\n",
    "            moved.add((min_coord, max_coord))\n",
    "            cnt += 1\n",
    "        x = nx\n",
    "        y = ny\n",
    "\n",
    "    return cnt\n",
    "\n",
    "print( solution(\"ULURRDLLU\") )\n",
    "print( solution(\"LULLLLLLU\") )"
   ]
  }
 ],
 "metadata": {
  "kernelspec": {
   "display_name": "Python 3",
   "language": "python",
   "name": "python3"
  },
  "language_info": {
   "codemirror_mode": {
    "name": "ipython",
    "version": 3
   },
   "file_extension": ".py",
   "mimetype": "text/x-python",
   "name": "python",
   "nbconvert_exporter": "python",
   "pygments_lexer": "ipython3",
   "version": "3.11.8"
  }
 },
 "nbformat": 4,
 "nbformat_minor": 2
}
