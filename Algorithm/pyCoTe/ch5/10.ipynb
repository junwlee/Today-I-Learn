{
 "cells": [
  {
   "cell_type": "markdown",
   "metadata": {},
   "source": [
    "### 문제 파악하기\n",
    "- 괄호의 종류에 따라 열림과 닫힘을 정확히 매칭시키는 것이 핵심\n",
    "- 회전은 문자열의 인덱스를 활용하여 \"(현재 인덱스 + 회전 횟수) % 문자열 길이\"로 계산하여 구현"
   ]
  },
  {
   "cell_type": "code",
   "execution_count": null,
   "metadata": {},
   "outputs": [],
   "source": [
    "# Answer1\n",
    "\n",
    "def solution(s):\n",
    "  answer = 0\n",
    "  n = len(s)\n",
    "  for i in range(n): # 외부 반복문은 회전 횟수에 대해 검사를 수행\n",
    "    stack = [ ]\n",
    "    for j in range(n): # 내부 반복문은 문자열의 각 문자에 대해 검사를 수행\n",
    "      current_char = s[(i + j) % n] # ➊ 괄호 문자열을 회전시키면서 참조\n",
    "      if current_char == \"(\" or current_char == \"[\" or current_char == \"{\":  # ➋ 열린 괄호는 푸시\n",
    "        stack.append(current_char)\n",
    "      else:\n",
    "        if not stack:  # ➌ 짝이 맞지 않는 경우\n",
    "          break\n",
    "      \n",
    "         # ➍ 닫힌 괄호는 스택의 top과 짝이 맞는지 비교\n",
    "        if current_char == \")\" and stack[-1] == \"(\":\n",
    "           stack.pop( ) \n",
    "        elif current_char == \"]\" and stack[-1] == \"[\":\n",
    "           stack.pop( ) \n",
    "        elif current_char == \"}\" and stack[-1] == \"{\":\n",
    "           stack.pop( ) \n",
    "        else:\n",
    "             break\n",
    "        # 짝이 맞지 않는 경우나 스택이 비어 있는데 닫는 괄호가 나오는 경우는 올바르지 않은 괄호 문자열로 판단\n",
    "\n",
    "    else:  # ➎ for문이 break에 의해 끝나지 않고 끝까지 수행된 경우\n",
    "      if not stack:\n",
    "        answer += 1\n",
    "  return answer\n",
    "\n",
    "s1 = [ \"[\", \"]\", \"(\", \")\", \"{\" , \"}\" ]\n",
    "print( solution(s1) )"
   ]
  },
  {
   "cell_type": "markdown",
   "metadata": {},
   "source": [
    "## for~else 구문의 사용 아이디어를 얻는 방법 :\n",
    "1. 문제 이해와 분석: 우선 문제를 철저히 이해하고, 어떤 조건에서 특별한 처리가 필요한지 파악합니다. 이 경우, 모든 괄호가 올바르게 닫히는지 확인해야 합니다.\n",
    "2. 특정 조건에서 추가 처리 필요성 인지: break 문을 사용하여 반복문을 조기에 종료하는 조건을 명확히 합니다. 여기서는 짝이 맞지 않는 괄호가 나타날 때입니다.\n",
    "3. for~else 구문의 특징 이해: else 부분이 for 루프가 break 없이 완료된 후에 실행된다는 점을 이해합니다. 이를 통해 모든 괄호가 올바르게 처리되었는지 마지막 검증 단계를 추가할 수 있습니다.\n",
    "\n",
    "### for~else 구문 사용의 장점\n",
    "1. 코드의 명확성: else 블록을 통해, 반복문이 중간에 중단되지 않고 완전히 실행되었을 때만 실행되어야 하는 로직을 명확히 할 수 있습니다.\n",
    "2. 추가 변수 사용 감소: 반복문이 완료됐는지 여부를 확인하기 위해 추가적인 상태 변수를 사용할 필요가 없어집니다.\n",
    "\n",
    "- for~else 구문은 특히 알고리즘 문제 해결이나 데이터 처리 과정에서 특정 조건을 만족시키거나 검증하는 로직을 구현할 때 유용하게 사용될 수 있습니다."
   ]
  },
  {
   "cell_type": "code",
   "execution_count": null,
   "metadata": {},
   "outputs": [],
   "source": [
    "# Answer2\n",
    "\n",
    "def solution(s):\n",
    "    # 길이가 홀수인 경우 바로 0 반환\n",
    "    if len(s) % 2 != 0:\n",
    "        return 0\n",
    "    \n",
    "    # 괄호 매핑\n",
    "    bracket_map = {')': '(', '}': '{', ']': '['}\n",
    "    open_brackets = set(bracket_map.values())\n",
    "    \n",
    "    answer = 0\n",
    "    for start in range(len(s)):\n",
    "        stack = []\n",
    "        is_valid = True\n",
    "        for i in range(len(s)):\n",
    "            current_char = s[(start + i) % len(s)]\n",
    "            if current_char in open_brackets:\n",
    "                stack.append(current_char)\n",
    "            else:\n",
    "                if stack and stack[-1] == bracket_map[current_char]:\n",
    "                    stack.pop()\n",
    "                else:\n",
    "                    is_valid = False\n",
    "                    break\n",
    "        \n",
    "        if is_valid and not stack:\n",
    "            answer += 1\n",
    "    \n",
    "    return answer\n",
    "\n",
    "s1 = [ \"[\", \"]\", \"(\", \")\", \"{\" , \"}\" ]\n",
    "print( solution(s1) )"
   ]
  },
  {
   "cell_type": "code",
   "execution_count": null,
   "metadata": {},
   "outputs": [],
   "source": [
    "# Answer3\n",
    "\n",
    "from collections import deque\n",
    "\n",
    "def check(s):\n",
    "    while True:\n",
    "        if \"()\" in s: s=s.replace(\"()\",\"\")\n",
    "        elif \"{}\" in s: s=s.replace(\"{}\",\"\")\n",
    "        elif \"[]\" in s: s=s.replace(\"[]\",\"\")\n",
    "        else: return False if s else True \n",
    "        # 주어진 문자열 s에서 모든 괄호가 적절히 제거되어 괄호가 하나도 남아 있지 않은 경우에만 True를 반환하고, 그렇지 않다면 False를 반환하라는 로직을 단 한 줄의 코드로 표현\n",
    "\n",
    "def solution(s):\n",
    "    ans = 0\n",
    "    que = deque(s)\n",
    "\n",
    "    for i in range(len(s)):\n",
    "        if check(''.join(que)): ans+=1\n",
    "        que.rotate(-1)\n",
    "    return ans"
   ]
  },
  {
   "cell_type": "markdown",
   "metadata": {},
   "source": [
    "## rotate 메서드 사용 방법\n",
    "\n",
    "- n이 양수인 경우: 덱의 요소들을 오른쪽으로 n 만큼 회전시킵니다. 즉, 덱의 오른쪽 끝에 있는 요소들이 덱의 왼쪽 끝으로 이동합니다.\n",
    "- n이 음수인 경우: 덱의 요소들을 왼쪽으로 n의 절대값 만큼 회전시킵니다. 즉, 덱의 왼쪽 끝에 있는 요소들이 덱의 오른쪽 끝으로 이동합니다.\n",
    "- n이 0인 경우: 회전이 일어나지 않고 덱은 그대로 유지됩니다.\n",
    "\n",
    "### 순환 이동이 필요한 다양한 알고리즘 문제나 자료 구조의 구현에 유용하게 사용\n",
    "- 이 메서드는 큐의 양쪽 끝에서 요소를 빠르게 추가하거나 제거할 수 있는 deque의 특성을 활용하여, 배열이나 리스트에서 요소를 회전시키는 작업보다 효율적으로 수행"
   ]
  },
  {
   "cell_type": "code",
   "execution_count": null,
   "metadata": {},
   "outputs": [],
   "source": [
    "from collections import deque\n",
    "\n",
    "# 덱 생성\n",
    "d = deque([1, 2, 3, 4, 5])\n",
    "\n",
    "# 오른쪽으로 1회 회전\n",
    "d.rotate(1)\n",
    "print(d)\n",
    "\n",
    "# 왼쪽으로 2회 회전 (위의 결과에서 이어짐)\n",
    "d.rotate(-2)\n",
    "\n",
    "print(d)"
   ]
  }
 ],
 "metadata": {
  "kernelspec": {
   "display_name": "Python 3",
   "language": "python",
   "name": "python3"
  },
  "language_info": {
   "codemirror_mode": {
    "name": "ipython",
    "version": 3
   },
   "file_extension": ".py",
   "mimetype": "text/x-python",
   "name": "python",
   "nbconvert_exporter": "python",
   "pygments_lexer": "ipython3",
   "version": "3.11.8"
  }
 },
 "nbformat": 4,
 "nbformat_minor": 2
}
