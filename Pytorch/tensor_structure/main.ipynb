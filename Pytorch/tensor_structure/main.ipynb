{
 "cells": [
  {
   "cell_type": "markdown",
   "source": [
    "# 1. Intro"
   ],
   "metadata": {
    "collapsed": false
   },
   "id": "982a0d2079a81af6"
  },
  {
   "cell_type": "code",
   "execution_count": 1,
   "id": "initial_id",
   "metadata": {
    "collapsed": true,
    "ExecuteTime": {
     "end_time": "2024-04-13T14:46:34.971074Z",
     "start_time": "2024-04-13T14:46:31.119227Z"
    }
   },
   "outputs": [],
   "source": [
    "import torch"
   ]
  },
  {
   "cell_type": "code",
   "outputs": [
    {
     "data": {
      "text/plain": "tensor([1., 1., 1.])"
     },
     "execution_count": 3,
     "metadata": {},
     "output_type": "execute_result"
    }
   ],
   "source": [
    "a = torch.ones(3)\n",
    "a"
   ],
   "metadata": {
    "collapsed": false,
    "ExecuteTime": {
     "end_time": "2024-04-13T14:48:09.088286Z",
     "start_time": "2024-04-13T14:48:09.082878Z"
    }
   },
   "id": "7b350169a1f8c12a",
   "execution_count": 3
  },
  {
   "cell_type": "code",
   "outputs": [
    {
     "data": {
      "text/plain": "torch.Tensor"
     },
     "execution_count": 5,
     "metadata": {},
     "output_type": "execute_result"
    }
   ],
   "source": [
    "a[1]"
   ],
   "metadata": {
    "collapsed": false,
    "ExecuteTime": {
     "end_time": "2024-04-13T14:48:52.427844Z",
     "start_time": "2024-04-13T14:48:52.425247Z"
    }
   },
   "id": "56fa9c82a9fb7ce5",
   "execution_count": 5
  },
  {
   "cell_type": "code",
   "outputs": [
    {
     "data": {
      "text/plain": "tensor([1., 1., 2.])"
     },
     "execution_count": 7,
     "metadata": {},
     "output_type": "execute_result"
    }
   ],
   "source": [
    "a[2] = 2\n",
    "a"
   ],
   "metadata": {
    "collapsed": false,
    "ExecuteTime": {
     "end_time": "2024-04-13T14:49:30.474749Z",
     "start_time": "2024-04-13T14:49:30.471812Z"
    }
   },
   "id": "38b76cbb742a2225",
   "execution_count": 7
  },
  {
   "cell_type": "code",
   "outputs": [
    {
     "data": {
      "text/plain": "tensor([0., 0., 0., 0., 0., 0.])"
     },
     "execution_count": 8,
     "metadata": {},
     "output_type": "execute_result"
    }
   ],
   "source": [
    "points = torch.zeros(6)\n",
    "points"
   ],
   "metadata": {
    "collapsed": false,
    "ExecuteTime": {
     "end_time": "2024-04-13T14:51:22.021218Z",
     "start_time": "2024-04-13T14:51:22.018189Z"
    }
   },
   "id": "15af41fc49b47777",
   "execution_count": 8
  },
  {
   "cell_type": "code",
   "outputs": [
    {
     "data": {
      "text/plain": "tensor([0., 1., 2., 3., 4., 5.])"
     },
     "execution_count": 9,
     "metadata": {},
     "output_type": "execute_result"
    }
   ],
   "source": [
    "for i in range(len(points)):\n",
    "    points[i] += i\n",
    "points"
   ],
   "metadata": {
    "collapsed": false,
    "ExecuteTime": {
     "end_time": "2024-04-13T14:52:45.538035Z",
     "start_time": "2024-04-13T14:52:45.534630Z"
    }
   },
   "id": "1e28be4163c6bbe0",
   "execution_count": 9
  },
  {
   "cell_type": "code",
   "outputs": [
    {
     "data": {
      "text/plain": "tensor([[4., 1.],\n        [5., 3.],\n        [2., 1.]])"
     },
     "execution_count": 12,
     "metadata": {},
     "output_type": "execute_result"
    }
   ],
   "source": [
    "points = torch.tensor([ [4.0, 1.0],\n",
    "                        [5.0, 3.0],\n",
    "                        [2.0, 1.0]])\n",
    "points"
   ],
   "metadata": {
    "collapsed": false,
    "ExecuteTime": {
     "end_time": "2024-04-13T15:00:38.048176Z",
     "start_time": "2024-04-13T15:00:38.044021Z"
    }
   },
   "id": "f7b06cefcacb6f9c",
   "execution_count": 12
  },
  {
   "cell_type": "code",
   "outputs": [
    {
     "name": "stdout",
     "output_type": "stream",
     "text": [
      "torch.Size([3, 2])\n"
     ]
    },
    {
     "data": {
      "text/plain": "tensor([[0., 0.],\n        [0., 0.],\n        [0., 0.]])"
     },
     "execution_count": 15,
     "metadata": {},
     "output_type": "execute_result"
    }
   ],
   "source": [
    "print(points.shape)\n",
    "\n",
    "points2 = torch.zeros(points.shape)\n",
    "points2"
   ],
   "metadata": {
    "collapsed": false,
    "ExecuteTime": {
     "end_time": "2024-04-13T15:02:20.935430Z",
     "start_time": "2024-04-13T15:02:20.931567Z"
    }
   },
   "id": "cd698d3d532c3e70",
   "execution_count": 15
  },
  {
   "cell_type": "code",
   "outputs": [
    {
     "data": {
      "text/plain": "tensor([[0., 1.],\n        [1., 2.],\n        [2., 3.]])"
     },
     "execution_count": 23,
     "metadata": {},
     "output_type": "execute_result"
    }
   ],
   "source": [
    "for i in range(len(points2)):\n",
    "    for j in range(len(points2[0])):\n",
    "        points2[i, j] = i + j\n",
    "points2"
   ],
   "metadata": {
    "collapsed": false,
    "ExecuteTime": {
     "end_time": "2024-04-13T15:09:53.693771Z",
     "start_time": "2024-04-13T15:09:53.689155Z"
    }
   },
   "id": "5dcc65dcfb73c996",
   "execution_count": 23
  },
  {
   "cell_type": "code",
   "outputs": [
    {
     "data": {
      "text/plain": "tensor(1.)"
     },
     "execution_count": 24,
     "metadata": {},
     "output_type": "execute_result"
    }
   ],
   "source": [
    "points2[0,1]"
   ],
   "metadata": {
    "collapsed": false,
    "ExecuteTime": {
     "end_time": "2024-04-13T15:09:54.158710Z",
     "start_time": "2024-04-13T15:09:54.155521Z"
    }
   },
   "id": "71e15d2b34a00b7a",
   "execution_count": 24
  },
  {
   "cell_type": "markdown",
   "source": [
    "# 2. Tensor Indexing"
   ],
   "metadata": {
    "collapsed": false
   },
   "id": "ae533cf9d3f31b8a"
  },
  {
   "cell_type": "code",
   "outputs": [],
   "source": [],
   "metadata": {
    "collapsed": false
   },
   "id": "99ee4d329e6f6265"
  }
 ],
 "metadata": {
  "kernelspec": {
   "display_name": "Python 3",
   "language": "python",
   "name": "python3"
  },
  "language_info": {
   "codemirror_mode": {
    "name": "ipython",
    "version": 2
   },
   "file_extension": ".py",
   "mimetype": "text/x-python",
   "name": "python",
   "nbconvert_exporter": "python",
   "pygments_lexer": "ipython2",
   "version": "2.7.6"
  }
 },
 "nbformat": 4,
 "nbformat_minor": 5
}
