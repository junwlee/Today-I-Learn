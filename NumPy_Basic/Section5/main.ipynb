{
 "cells": [
  {
   "cell_type": "code",
   "execution_count": null,
   "id": "initial_id",
   "metadata": {
    "collapsed": true
   },
   "outputs": [],
   "source": [
    "import numpy as np"
   ]
  },
  {
   "cell_type": "markdown",
   "source": [
    "# 5-1"
   ],
   "metadata": {
    "collapsed": false
   },
   "id": "abea67c03a463d7d"
  },
  {
   "cell_type": "code",
   "outputs": [],
   "source": [],
   "metadata": {
    "collapsed": false
   },
   "id": "9f7b004e62a0d8d4"
  },
  {
   "cell_type": "code",
   "outputs": [],
   "source": [
    "arr = np.arange(12)\n",
    "print(arr, \"\\n\")\n",
    "\n",
    "# resize\n",
    "arr.resize(3, 4) # resize는 원본 배열을 변경하고 반환값이 없다\n",
    "print(arr, \"\\n\")\n",
    "\n",
    "# reshape\n",
    "arr = arr.reshape(3, 4) # reshape은 새로운 배열을 반환\n",
    "print(arr, \"\\n\")\n",
    "\n",
    "arr1 = np.arange(20)\n",
    "arr1 = arr1.reshape(4, -1)\n",
    "print(arr1, \"\\n\")\n",
    "\n",
    "arr2 = np.arange(36)\n",
    "arr2 = arr2.reshape(4, 3, -1)\n",
    "arr2[0][0] = 99\n",
    "print(arr2, \"\\n\")\n",
    "\n",
    "# ravel\n",
    "print(arr2.ravel())\n",
    "\n",
    "# flatten\n",
    "arr3 = np.arange(12).reshape(4, -1)\n",
    "arr4 = arr3.flatten()\n",
    "print(arr3, \"\\n\", arr4)"
   ],
   "metadata": {
    "collapsed": false
   },
   "id": "d391430e24c5cb0d",
   "execution_count": null
  },
  {
   "cell_type": "markdown",
   "source": [
    "# 5-2"
   ],
   "metadata": {
    "collapsed": false
   },
   "id": "bf36e9f0b24414ca"
  },
  {
   "cell_type": "code",
   "outputs": [],
   "source": [
    "arr = np.arange(6).reshape(2,3)\n",
    "print(arr)\n",
    "\n",
    "# expand\n",
    "arr1 = np.expand_dims(arr, axis=0)\n",
    "print(arr1, arr1.shape)\n",
    "\n",
    "arr2 = np.expand_dims(arr, axis=1)\n",
    "print(arr2, arr2.shape)"
   ],
   "metadata": {
    "collapsed": false
   },
   "id": "b67b8e63f995aa4a",
   "execution_count": null
  },
  {
   "cell_type": "code",
   "outputs": [],
   "source": [
    "arr = np.arange(12).reshape(2,1,6)\n",
    "print(arr, \"\\n\")\n",
    "\n",
    "# squeeze\n",
    "arr3 = np.squeeze(arr, axis=1)\n",
    "print(arr3, arr3.shape, \"\\n\")\n",
    "\n",
    "arr = np.arange(12).reshape(1,3,4)\n",
    "print(arr, \"\\n\")\n",
    "arr4 = np.squeeze(arr, axis=0)\n",
    "print(arr4, arr4.shape)"
   ],
   "metadata": {
    "collapsed": false
   },
   "id": "9685f20efb1df10a",
   "execution_count": null
  },
  {
   "cell_type": "markdown",
   "source": [
    "# 5-3"
   ],
   "metadata": {
    "collapsed": false
   },
   "id": "f6e491f3c9ef344d"
  },
  {
   "cell_type": "code",
   "outputs": [],
   "source": [
    "arr = np.arange(12).reshape(3,4)\n",
    "print(arr, \"\\n\")\n",
    "print(arr.T)"
   ],
   "metadata": {
    "collapsed": false
   },
   "id": "d5b5ae86245727d8",
   "execution_count": null
  },
  {
   "cell_type": "code",
   "outputs": [],
   "source": [
    "arr_3d = np.arange(12).reshape(2, 2, 3)\n",
    "print(arr_3d, \"\\n\")\n",
    "\n",
    "reordered_arr = np.transpose(arr_3d, axes=[2, 0, 1])\n",
    "print(reordered_arr, reordered_arr.shape)"
   ],
   "metadata": {
    "collapsed": false
   },
   "id": "ad67a1322f85052f",
   "execution_count": null
  },
  {
   "cell_type": "code",
   "outputs": [],
   "source": [
    "arr = np.arange(6).reshape(2,3)\n",
    "print(np.dot(arr.T, (arr.T).T))"
   ],
   "metadata": {
    "collapsed": false
   },
   "id": "d7d7b147bf805823",
   "execution_count": null
  },
  {
   "cell_type": "code",
   "outputs": [],
   "source": [],
   "metadata": {
    "collapsed": false
   },
   "id": "d990520db6f113e"
  }
 ],
 "metadata": {
  "kernelspec": {
   "display_name": "Python 3",
   "language": "python",
   "name": "python3"
  },
  "language_info": {
   "codemirror_mode": {
    "name": "ipython",
    "version": 2
   },
   "file_extension": ".py",
   "mimetype": "text/x-python",
   "name": "python",
   "nbconvert_exporter": "python",
   "pygments_lexer": "ipython2",
   "version": "2.7.6"
  }
 },
 "nbformat": 4,
 "nbformat_minor": 5
}
