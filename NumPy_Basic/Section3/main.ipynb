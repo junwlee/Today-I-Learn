{
 "cells": [
  {
   "cell_type": "code",
   "outputs": [],
   "source": [
    "import numpy as np"
   ],
   "metadata": {
    "collapsed": false
   },
   "id": "c89e704c75602721",
   "execution_count": null
  },
  {
   "cell_type": "markdown",
   "source": [
    "# 3-1"
   ],
   "metadata": {
    "collapsed": false
   },
   "id": "c43b5b41e3344621"
  },
  {
   "cell_type": "code",
   "execution_count": null,
   "id": "initial_id",
   "metadata": {
    "collapsed": true
   },
   "outputs": [],
   "source": [
    "arr1 = np.arange(1,10).reshape(3,3)\n",
    "arr2 = np.full([3,3], 2)"
   ]
  },
  {
   "cell_type": "markdown",
   "source": [
    "## 덧셈"
   ],
   "metadata": {
    "collapsed": false
   },
   "id": "eaafac9d07d7a726"
  },
  {
   "cell_type": "code",
   "outputs": [],
   "source": [
    "print(arr1 + arr2)\n",
    "print(np.add(arr1,arr2))"
   ],
   "metadata": {
    "collapsed": false
   },
   "id": "f92f89eb8c86c271",
   "execution_count": null
  },
  {
   "cell_type": "markdown",
   "source": [
    "## 뺄셈"
   ],
   "metadata": {
    "collapsed": false
   },
   "id": "162b7e628bb717eb"
  },
  {
   "cell_type": "code",
   "outputs": [],
   "source": [
    "print(arr1 - arr2)\n",
    "print(np.subtract(arr1,arr2))"
   ],
   "metadata": {
    "collapsed": false
   },
   "id": "d646f18e13b0e57e",
   "execution_count": null
  },
  {
   "cell_type": "markdown",
   "source": [
    "## 나눗셈"
   ],
   "metadata": {
    "collapsed": false
   },
   "id": "917939a0db94b4a1"
  },
  {
   "cell_type": "code",
   "outputs": [],
   "source": [
    "print(arr1 / arr2)\n",
    "print(np.divide(arr1,arr2))"
   ],
   "metadata": {
    "collapsed": false
   },
   "id": "2a13b4fda4cefb0f",
   "execution_count": null
  },
  {
   "cell_type": "markdown",
   "source": [
    "## 곱셈(내적X)"
   ],
   "metadata": {
    "collapsed": false
   },
   "id": "6bb850bac18775c1"
  },
  {
   "cell_type": "code",
   "outputs": [],
   "source": [
    "print(arr1 * arr2)\n",
    "print(np.multiply(arr1,arr2))"
   ],
   "metadata": {
    "collapsed": false
   },
   "id": "f34f4386883d8794",
   "execution_count": null
  },
  {
   "cell_type": "markdown",
   "source": [
    "## 제곱 / 제곱근"
   ],
   "metadata": {
    "collapsed": false
   },
   "id": "1103962e47ec6638"
  },
  {
   "cell_type": "code",
   "outputs": [],
   "source": [
    "print(arr1 ** 2)\n",
    "print(np.square(arr1))\n",
    "print(np.sqrt(np.square(arr1)))"
   ],
   "metadata": {
    "collapsed": false
   },
   "id": "a0adec0ee4baa8e3",
   "execution_count": null
  },
  {
   "cell_type": "markdown",
   "source": [
    "## 몫"
   ],
   "metadata": {
    "collapsed": false
   },
   "id": "a4ed262d498645ff"
  },
  {
   "cell_type": "code",
   "outputs": [],
   "source": [
    "print(arr1 // 2)"
   ],
   "metadata": {
    "collapsed": false
   },
   "id": "3aafd90ff353b0d8",
   "execution_count": null
  },
  {
   "cell_type": "markdown",
   "source": [
    "## 나머지"
   ],
   "metadata": {
    "collapsed": false
   },
   "id": "e8ba71d15422fd55"
  },
  {
   "cell_type": "code",
   "outputs": [],
   "source": [
    "print(arr1 % 2)"
   ],
   "metadata": {
    "collapsed": false
   },
   "id": "9018044b1ac761f",
   "execution_count": null
  },
  {
   "cell_type": "markdown",
   "source": [
    "# 3-2"
   ],
   "metadata": {
    "collapsed": false
   },
   "id": "d6edd24dacf2aa16"
  },
  {
   "cell_type": "markdown",
   "source": [
    "## dot product"
   ],
   "metadata": {
    "collapsed": false
   },
   "id": "2bad153529e9e98a"
  },
  {
   "cell_type": "code",
   "outputs": [],
   "source": [
    "arr1 = np.random.randint(1,6,size=(2,3))\n",
    "arr2 = np.random.randint(6,15,size=(3,2))\n",
    "print(np.dot(arr1, arr2))"
   ],
   "metadata": {
    "collapsed": false
   },
   "id": "2003f544b1915437",
   "execution_count": null
  },
  {
   "cell_type": "markdown",
   "source": [
    "## 절댓값"
   ],
   "metadata": {
    "collapsed": false
   },
   "id": "309e5710e91ad0e2"
  },
  {
   "cell_type": "code",
   "outputs": [],
   "source": [
    "arr3 = np.random.randn(3,3)\n",
    "print(np.abs(arr3))"
   ],
   "metadata": {
    "collapsed": false
   },
   "id": "df91d342311ef927",
   "execution_count": null
  },
  {
   "cell_type": "markdown",
   "source": [
    "## 올림"
   ],
   "metadata": {
    "collapsed": false
   },
   "id": "6d1ce08535b77ecc"
  },
  {
   "cell_type": "code",
   "outputs": [],
   "source": [
    "print(arr3)\n",
    "print(np.ceil(arr3))"
   ],
   "metadata": {
    "collapsed": false
   },
   "id": "836f3372c92dc76",
   "execution_count": null
  },
  {
   "cell_type": "markdown",
   "source": [
    "## 내림"
   ],
   "metadata": {
    "collapsed": false
   },
   "id": "d3f05e78b73235d1"
  },
  {
   "cell_type": "code",
   "outputs": [],
   "source": [
    "print(arr3)\n",
    "print(np.floor(arr3))"
   ],
   "metadata": {
    "collapsed": false
   },
   "id": "c15906161ca0041",
   "execution_count": null
  },
  {
   "cell_type": "markdown",
   "source": [
    "## 반올림"
   ],
   "metadata": {
    "collapsed": false
   },
   "id": "59c175c8b4a5229e"
  },
  {
   "cell_type": "code",
   "outputs": [],
   "source": [
    "print(arr3)\n",
    "print(np.round(arr3))"
   ],
   "metadata": {
    "collapsed": false
   },
   "id": "518a4b438dd95694",
   "execution_count": null
  },
  {
   "cell_type": "markdown",
   "source": [
    "## 버림"
   ],
   "metadata": {
    "collapsed": false
   },
   "id": "791b64eae19d8e3c"
  },
  {
   "cell_type": "code",
   "outputs": [],
   "source": [
    "print(arr3)\n",
    "print(np.trunc(arr3))"
   ],
   "metadata": {
    "collapsed": false
   },
   "id": "81f073fd01d47a82",
   "execution_count": null
  },
  {
   "cell_type": "markdown",
   "source": [
    "# 3-3"
   ],
   "metadata": {
    "collapsed": false
   },
   "id": "52991c07bd525269"
  },
  {
   "cell_type": "code",
   "outputs": [],
   "source": [
    "arr1 = np.random.randint(30,size=(2,3))\n",
    "\n",
    "print(arr1)\n",
    "print(arr1.min())\n",
    "print(np.min(arr1,axis=0))\n",
    "print(np.min(arr1,axis=1))"
   ],
   "metadata": {
    "collapsed": false
   },
   "id": "ee0c59fd1c0859da",
   "execution_count": null
  },
  {
   "cell_type": "code",
   "outputs": [],
   "source": [
    "print(arr1.sum())\n",
    "print(np.sum(arr1,axis=0))\n",
    "print(np.sum(arr1,axis=1))"
   ],
   "metadata": {
    "collapsed": false
   },
   "id": "794ea9adfa3e966c",
   "execution_count": null
  },
  {
   "cell_type": "code",
   "outputs": [],
   "source": [
    "arr1 = np.random.randint(25,size=(2,3))\n",
    "print(arr1)\n",
    "\n",
    "print(arr1.mean())\n",
    "print(np.mean(arr1,axis=0))\n",
    "print(np.mean(arr1,axis=1))"
   ],
   "metadata": {
    "collapsed": false
   },
   "id": "2c03207817439a1f",
   "execution_count": null
  },
  {
   "cell_type": "code",
   "outputs": [],
   "source": [
    "arr2 = np.random.randint(30, size=(3,3))\n",
    "print(arr2)\n",
    "\n",
    "# std(표준편차)\n",
    "print(np.std(arr2,axis=0), \"\\n\")\n",
    "\n",
    "# cumsum\n",
    "print(arr2.cumsum(), \"\\n\")\n",
    "print(np.cumsum(arr2,axis=0), \"\\n\")\n",
    "print(np.cumsum(arr2,axis=1), \"\\n\")\n",
    "\n",
    "# median\n",
    "print(np.median(arr2,axis=0), \"\\n\")\n",
    "print(np.median(arr2,axis=1), \"\\n\")"
   ],
   "metadata": {
    "collapsed": false
   },
   "id": "84e6894a966f9720",
   "execution_count": null
  },
  {
   "cell_type": "markdown",
   "source": [
    "# 3-4"
   ],
   "metadata": {
    "collapsed": false
   },
   "id": "957b25ced28f1a4d"
  },
  {
   "cell_type": "code",
   "outputs": [],
   "source": [
    "arr1 = np.random.randint(10, size=(2,3))\n",
    "print(arr1)\n",
    "arr2 = np.random.randint(10, size=(2,3))\n",
    "print(arr2, \"\\n\")\n",
    "\n",
    "print(arr1 == arr2, \"\\n\")\n",
    "print(arr1 > arr2, \"\\n\")\n",
    "\n",
    "arr3 = arr1\n",
    "print(np.array_equal(arr1,arr3))"
   ],
   "metadata": {
    "collapsed": false
   },
   "id": "a77de6cb0dd7281",
   "execution_count": null
  },
  {
   "cell_type": "markdown",
   "source": [
    "## 삼각함수"
   ],
   "metadata": {
    "collapsed": false
   },
   "id": "3297274ee7a36663"
  },
  {
   "cell_type": "code",
   "outputs": [],
   "source": [
    "arr = np.arange(360)\n",
    "arr = arr[arr % 30 == 0].reshape((3,4))\n",
    "print(arr, \"\\n\")\n",
    "\n",
    "print(np.sin(arr))\n",
    "print(np.cos(arr))\n",
    "print(np.tan(arr))"
   ],
   "metadata": {
    "collapsed": false
   },
   "id": "adb5dbab67a3b609",
   "execution_count": null
  },
  {
   "cell_type": "markdown",
   "source": [
    "# 3.5 Broadcasting"
   ],
   "metadata": {
    "collapsed": false
   },
   "id": "df9524761c9fcbc1"
  },
  {
   "cell_type": "code",
   "outputs": [],
   "source": [
    "arr1 = np.array([[0, 0, 0],\n",
    "                [1, 1, 1],\n",
    "                [2, 2, 2]])\n",
    "arr2 = np.array([3,3,3])\n",
    "\n",
    "# Add\n",
    "print(np.add(arr1, arr2))\n",
    "\n",
    "# Multiply\n",
    "print(np.multiply(arr1, arr2))"
   ],
   "metadata": {
    "collapsed": false
   },
   "id": "5b5dc4846c640b3c",
   "execution_count": null
  },
  {
   "cell_type": "code",
   "outputs": [],
   "source": [
    "arr3 = np.array([1,2,3])\n",
    "arr4 = np.array([[1],\n",
    "                [2],\n",
    "                [3]])\n",
    "\n",
    "print(np.add(arr3, arr4))"
   ],
   "metadata": {
    "collapsed": false
   },
   "id": "47676036d5252153",
   "execution_count": null
  },
  {
   "cell_type": "markdown",
   "source": [
    "# 3-6"
   ],
   "metadata": {
    "collapsed": false
   },
   "id": "12d61c88d232cbbd"
  },
  {
   "cell_type": "code",
   "outputs": [],
   "source": [
    "import time\n",
    "\n",
    "arr1 = np.arange(99999999)\n",
    "arr2 = np.arange(99999999)\n",
    "\n",
    "# for\n",
    "sum = 0\n",
    "before = time.time()\n",
    "for i,j in zip(arr1,arr2):\n",
    "    sum += i * j\n",
    "after = time.time()\n",
    "print(sum, after - before, \"sec\")\n",
    "\n",
    "# vector\n",
    "before = time.time()\n",
    "sum = np.dot(arr1,arr2)\n",
    "after = time.time()\n",
    "print(sum, after - before, \"sec\")"
   ],
   "metadata": {
    "collapsed": false
   },
   "id": "83256734b9307a9c",
   "execution_count": null
  }
 ],
 "metadata": {
  "kernelspec": {
   "display_name": "Python 3",
   "language": "python",
   "name": "python3"
  },
  "language_info": {
   "codemirror_mode": {
    "name": "ipython",
    "version": 2
   },
   "file_extension": ".py",
   "mimetype": "text/x-python",
   "name": "python",
   "nbconvert_exporter": "python",
   "pygments_lexer": "ipython2",
   "version": "2.7.6"
  }
 },
 "nbformat": 4,
 "nbformat_minor": 5
}
