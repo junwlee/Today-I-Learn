{
 "cells": [
  {
   "cell_type": "code",
   "execution_count": null,
   "id": "initial_id",
   "metadata": {
    "collapsed": true
   },
   "outputs": [],
   "source": [
    "import numpy as np"
   ]
  },
  {
   "cell_type": "markdown",
   "source": [
    "# 6-1"
   ],
   "metadata": {
    "collapsed": false
   },
   "id": "72e2038c2b346a9d"
  },
  {
   "cell_type": "markdown",
   "source": [
    "## insert"
   ],
   "metadata": {
    "collapsed": false
   },
   "id": "bf1c4993d5d753ac"
  },
  {
   "cell_type": "code",
   "outputs": [],
   "source": [
    "arr = np.arange(1,13)\n",
    "print(arr, '\\n')\n",
    "\n",
    "arr = np.insert(arr, 3, 99)\n",
    "print(arr, '\\n')"
   ],
   "metadata": {
    "collapsed": false
   },
   "id": "90fe0e52482640d6",
   "execution_count": null
  },
  {
   "cell_type": "code",
   "outputs": [],
   "source": [
    "arr = np.arange(15).reshape(3,5)\n",
    "print(arr, '\\n')\n",
    "\n",
    "arr = np.insert(arr, 3, 99)\n",
    "print(arr, arr.shape, '\\n')\n",
    "print(arr.reshape(4,4), '\\n')\n",
    "\n",
    "arr1 = np.arange(15).reshape(3,5)\n",
    "arr1 = np.insert(arr1, 1, 77, axis=0)\n",
    "print(arr1, '\\n')\n",
    "\n",
    "arr2 = np.arange(15).reshape(3,5)\n",
    "arr2 = np.insert(arr2, 2, 22, axis=1)\n",
    "print(arr2, arr2.size, '\\n')"
   ],
   "metadata": {
    "collapsed": false
   },
   "id": "2cc35e0b02b0c8e",
   "execution_count": null
  },
  {
   "cell_type": "markdown",
   "source": [
    "## delete"
   ],
   "metadata": {
    "collapsed": false
   },
   "id": "6fac7105e511de0b"
  },
  {
   "cell_type": "code",
   "outputs": [],
   "source": [
    "arr = np.arange(1,13)\n",
    "print(arr, '\\n')\n",
    "\n",
    "arr = np.delete(arr, 3)\n",
    "print(arr)"
   ],
   "metadata": {
    "collapsed": false
   },
   "id": "b03f76b3cdb01786",
   "execution_count": null
  },
  {
   "cell_type": "code",
   "outputs": [],
   "source": [
    "arr1 = np.arange(15).reshape(3,5)\n",
    "print(arr1, '\\n')\n",
    "arr1 = np.delete(arr1, 1, 0)\n",
    "print(arr1, '\\n')\n",
    "arr1 = np.delete(arr1, -1, 1)\n",
    "print(arr1)"
   ],
   "metadata": {
    "collapsed": false
   },
   "id": "265d71e22e253a05",
   "execution_count": null
  },
  {
   "cell_type": "code",
   "outputs": [],
   "source": [
    "arr2 = np.arange(12).reshape(2,2,-1)\n",
    "print(arr2, arr2.ndim, '\\n')\n",
    "\n",
    "arr2 = np.delete(arr2, 0, 2)\n",
    "print(arr2)"
   ],
   "metadata": {
    "collapsed": false
   },
   "id": "7adeb9aea5013b11",
   "execution_count": null
  },
  {
   "cell_type": "markdown",
   "source": [
    "# 6-2"
   ],
   "metadata": {
    "collapsed": false
   },
   "id": "fe98f68467b75b25"
  },
  {
   "cell_type": "code",
   "outputs": [],
   "source": [
    "arr1 = np.arange(0,12).reshape(3,4)\n",
    "print(arr1, \"\\n\")\n",
    "arr2 = np.arange(12,24).reshape(3,4)\n",
    "print(arr2, \"\\n\")\n",
    "\n",
    "new_arr1 = np.append(arr1, arr2, axis=0)\n",
    "print(new_arr1, \"\\n\")\n",
    "vstack = np.vstack((arr1, arr2))\n",
    "print(vstack, \"\\n\")\n",
    "\n",
    "new_arr2 = np.append(arr1, arr2, axis=1)\n",
    "print(new_arr2, \"\\n\")\n",
    "hstack = np.hstack((arr1, arr2))\n",
    "print(hstack, \"\\n\")"
   ],
   "metadata": {
    "collapsed": false
   },
   "id": "fa741c3dc4ae9bc3",
   "execution_count": null
  },
  {
   "cell_type": "code",
   "outputs": [],
   "source": [
    "arr_3d_1 = np.random.randint(50, size=(2,3,3))\n",
    "print(arr_3d_1, \"\\n\")\n",
    "arr_3d_2 = np.random.randint(50, size=(2,3,3))\n",
    "print(arr_3d_2, \"\\n\")"
   ],
   "metadata": {
    "collapsed": false
   },
   "id": "9ed0786413461976",
   "execution_count": null
  },
  {
   "cell_type": "code",
   "outputs": [],
   "source": [
    "print(\" === vstack ===\")\n",
    "vstack = np.vstack((arr_3d_1, arr_3d_2))\n",
    "print(vstack, \"\\n\")\n",
    "\n",
    "print(\" === hstack ===\")\n",
    "hstack = np.hstack((arr_3d_1, arr_3d_2))\n",
    "print(hstack, \"\\n\")"
   ],
   "metadata": {
    "collapsed": false
   },
   "id": "a5db90972712c6e4",
   "execution_count": null
  },
  {
   "cell_type": "code",
   "outputs": [],
   "source": [
    "# concatenate\n",
    "concat_0 = np.concatenate([arr_3d_1, arr_3d_2], axis=0)\n",
    "print(concat_0 == vstack, \"\\n\")\n",
    "concat_1 = np.concatenate([arr_3d_1, arr_3d_2], axis=1)\n",
    "print(concat_1 == hstack, \"\\n\")"
   ],
   "metadata": {
    "collapsed": false
   },
   "id": "dd5833601ce5e915",
   "execution_count": null
  },
  {
   "cell_type": "markdown",
   "source": [
    "# 6 -3"
   ],
   "metadata": {
    "collapsed": false
   },
   "id": "e07181feb6aa6b4c"
  },
  {
   "cell_type": "code",
   "outputs": [],
   "source": [
    "arr1 = np.arange(0,12).reshape(3,4)\n",
    "print(arr1, \"\\n\")"
   ],
   "metadata": {
    "collapsed": false
   },
   "id": "daca5cd1015ab164",
   "execution_count": null
  },
  {
   "cell_type": "code",
   "outputs": [],
   "source": [
    "# vsplit\n",
    "vsplit = np.vsplit(arr1, 3)\n",
    "print(vsplit, \"\\n\")\n",
    "\n",
    "for i in range(len(vsplit)):\n",
    "    print(vsplit[i], \"\\n\")"
   ],
   "metadata": {
    "collapsed": false
   },
   "id": "d7ab1d00345adab7",
   "execution_count": null
  },
  {
   "cell_type": "code",
   "outputs": [],
   "source": [
    "# hsplit\n",
    "hsplit = np.hsplit(arr1, 2)\n",
    "print(hsplit, \"\\n\")\n",
    "\n",
    "for i in range(len(hsplit)):\n",
    "    print(hsplit[i])"
   ],
   "metadata": {
    "collapsed": false
   },
   "id": "db172492e126d9c7",
   "execution_count": null
  },
  {
   "cell_type": "code",
   "outputs": [],
   "source": [
    "arr_3d_1 = np.random.randint(10, size=(2,3,3))\n",
    "print(arr_3d_1, \"\\n\")"
   ],
   "metadata": {
    "collapsed": false
   },
   "id": "3d3b7505bd05db53",
   "execution_count": null
  },
  {
   "cell_type": "code",
   "outputs": [],
   "source": [
    "# vsplit\n",
    "\n",
    "vsplit = np.vsplit(arr_3d_1, 2)\n",
    "print(vsplit, \"\\n\")\n",
    "\n",
    "# hsplit\n",
    "hsplit = np.hsplit(arr_3d_1, 3)\n",
    "print(hsplit, \"\\n\")"
   ],
   "metadata": {
    "collapsed": false
   },
   "id": "59febc1408b95001",
   "execution_count": null
  }
 ],
 "metadata": {
  "kernelspec": {
   "display_name": "Python 3",
   "language": "python",
   "name": "python3"
  },
  "language_info": {
   "codemirror_mode": {
    "name": "ipython",
    "version": 2
   },
   "file_extension": ".py",
   "mimetype": "text/x-python",
   "name": "python",
   "nbconvert_exporter": "python",
   "pygments_lexer": "ipython2",
   "version": "2.7.6"
  }
 },
 "nbformat": 4,
 "nbformat_minor": 5
}
