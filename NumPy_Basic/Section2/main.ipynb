{
 "cells": [
  {
   "cell_type": "code",
   "execution_count": null,
   "id": "initial_id",
   "metadata": {
    "collapsed": true
   },
   "outputs": [],
   "source": [
    "import numpy as np"
   ]
  },
  {
   "cell_type": "markdown",
   "source": [
    "# 2-1"
   ],
   "metadata": {
    "collapsed": false
   },
   "id": "f1f30008d3628c79"
  },
  {
   "cell_type": "code",
   "outputs": [],
   "source": [
    "arr1 = np.arange(0,15).reshape(3,5)\n",
    "print(arr1)"
   ],
   "metadata": {
    "collapsed": false
   },
   "id": "fb473f1de394ec8",
   "execution_count": null
  },
  {
   "cell_type": "code",
   "outputs": [],
   "source": [
    "print(arr1[0][2])"
   ],
   "metadata": {
    "collapsed": false
   },
   "id": "d5cb6c84c4c7da38",
   "execution_count": null
  },
  {
   "cell_type": "code",
   "outputs": [],
   "source": [
    "print(arr1[:, 1:4])"
   ],
   "metadata": {
    "collapsed": false
   },
   "id": "7b889abea8b830f9",
   "execution_count": null
  },
  {
   "cell_type": "code",
   "outputs": [],
   "source": [
    "arr2 = np.arange(0,25).reshape(5,5)\n",
    "print(arr2)"
   ],
   "metadata": {
    "collapsed": false
   },
   "id": "f3d8b4cb6f9c51e4",
   "execution_count": null
  },
  {
   "cell_type": "code",
   "outputs": [],
   "source": [
    "print(arr2[2:,1:-1])"
   ],
   "metadata": {
    "collapsed": false
   },
   "id": "deafe5274e6bffd3",
   "execution_count": null
  },
  {
   "cell_type": "markdown",
   "source": [
    "# 2-2"
   ],
   "metadata": {
    "collapsed": false
   },
   "id": "9060079ebfe796eb"
  },
  {
   "cell_type": "code",
   "outputs": [],
   "source": [
    "arr1 = np.arange(26)\n",
    "filtered_arr1 = arr1[arr1 % 5 == 0]\n",
    "\n",
    "print(filtered_arr1)\n",
    "print(filtered_arr1[[1,3,5]])"
   ],
   "metadata": {
    "collapsed": false
   },
   "id": "31528c9fcbe65743",
   "execution_count": null
  },
  {
   "cell_type": "code",
   "outputs": [],
   "source": [
    "arr2 = np.arange(60)\n",
    "filtered_arr2 = arr2[arr2 % 5 ==0].reshape(3,4)\n",
    "print(filtered_arr2)"
   ],
   "metadata": {
    "collapsed": false
   },
   "id": "8e912a9f5d0ad3bd",
   "execution_count": null
  },
  {
   "cell_type": "code",
   "outputs": [],
   "source": [
    "print(filtered_arr2[0:, [0,3]])"
   ],
   "metadata": {
    "collapsed": false
   },
   "id": "5063cb56a1322b79",
   "execution_count": null
  },
  {
   "cell_type": "markdown",
   "source": [
    "# 2-3"
   ],
   "metadata": {
    "collapsed": false
   },
   "id": "e19b0e47658ce0a5"
  },
  {
   "cell_type": "code",
   "outputs": [],
   "source": [
    "print(filtered_arr1[[True, False, True, True, False, True]])"
   ],
   "metadata": {
    "collapsed": false
   },
   "id": "7983e30a1cf845b3",
   "execution_count": null
  },
  {
   "cell_type": "code",
   "outputs": [],
   "source": [
    "print(filtered_arr2[[True,False,True],[False,False,False,True]])"
   ],
   "metadata": {
    "collapsed": false
   },
   "id": "5d07075c93f037ed",
   "execution_count": null
  },
  {
   "cell_type": "code",
   "outputs": [
    {
     "name": "stdout",
     "output_type": "stream",
     "text": [
      "[[1 2 3 4]\n",
      " [5 6 7 8]]\n",
      "[[False False  True  True]\n",
      " [ True  True  True  True]]\n",
      "[3 4 5 6 7 8]\n"
     ]
    }
   ],
   "source": [
    "arr = np.array([[1,2,3,4],\n",
    "                [5,6,7,8]])\n",
    "print(arr)\n",
    "print(arr > 2)\n",
    "print(arr[arr > 2])"
   ],
   "metadata": {
    "collapsed": false,
    "ExecuteTime": {
     "end_time": "2024-03-12T12:24:09.774471Z",
     "start_time": "2024-03-12T12:24:09.771148Z"
    }
   },
   "id": "ae02e9628b8651fd",
   "execution_count": 34
  }
 ],
 "metadata": {
  "kernelspec": {
   "display_name": "Python 3",
   "language": "python",
   "name": "python3"
  },
  "language_info": {
   "codemirror_mode": {
    "name": "ipython",
    "version": 2
   },
   "file_extension": ".py",
   "mimetype": "text/x-python",
   "name": "python",
   "nbconvert_exporter": "python",
   "pygments_lexer": "ipython2",
   "version": "2.7.6"
  }
 },
 "nbformat": 4,
 "nbformat_minor": 5
}
