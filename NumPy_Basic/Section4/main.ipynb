{
 "cells": [
  {
   "cell_type": "code",
   "execution_count": null,
   "id": "initial_id",
   "metadata": {
    "collapsed": true
   },
   "outputs": [],
   "source": [
    "import numpy as np"
   ]
  },
  {
   "cell_type": "markdown",
   "source": [
    "# 4-1"
   ],
   "metadata": {
    "collapsed": false
   },
   "id": "2c42c9359681526b"
  },
  {
   "cell_type": "code",
   "outputs": [],
   "source": [
    "arr1 = np.random.randint(100, size=10)\n",
    "\n",
    "print(arr1)\n",
    "print(np.sort(arr1))\n",
    "print(arr1)\n",
    "\n",
    "arr1.sort()\n",
    "print(arr1)\n",
    "print(arr1[::-1])"
   ],
   "metadata": {
    "collapsed": false
   },
   "id": "848ff092bb16d577",
   "execution_count": null
  },
  {
   "cell_type": "markdown",
   "source": [
    "# 4-2"
   ],
   "metadata": {
    "collapsed": false
   },
   "id": "c4f1cb831a7547b6"
  },
  {
   "cell_type": "code",
   "outputs": [
    {
     "name": "stdout",
     "output_type": "stream",
     "text": [
      "[[ 6 15 18 16]\n",
      " [ 4 13 12 14]\n",
      " [ 8  7 17 14]] \n",
      "\n",
      "[[ 8 15 18 16]\n",
      " [ 6 13 17 14]\n",
      " [ 4  7 12 14]] \n"
     ]
    }
   ],
   "source": [
    "arr2 = np.random.randint(20, size=(3,4))\n",
    "\n",
    "print(arr2, \"\\n\")\n",
    "print(np.sort(arr2, axis=0)[::-1], \"\\n\")"
   ],
   "metadata": {
    "collapsed": false,
    "ExecuteTime": {
     "end_time": "2024-03-12T16:16:36.285950Z",
     "start_time": "2024-03-12T16:16:36.282814Z"
    }
   },
   "id": "fe901210dcc0fbe7",
   "execution_count": 14
  },
  {
   "cell_type": "code",
   "outputs": [
    {
     "name": "stdout",
     "output_type": "stream",
     "text": [
      "[[ 4  7 12 14]\n",
      " [ 6 13 17 14]\n",
      " [ 8 15 18 16]] \n",
      "\n",
      "[[1 2 1 1]\n",
      " [0 1 2 2]\n",
      " [2 0 0 0]] \n",
      "\n",
      "[[ 6 15 16 18]\n",
      " [ 4 12 13 14]\n",
      " [ 7  8 14 17]] \n",
      "\n",
      "[[0 1 3 2]\n",
      " [0 2 1 3]\n",
      " [1 0 3 2]] \n"
     ]
    }
   ],
   "source": [
    "print(np.sort(arr2, axis=0), \"\\n\")\n",
    "print(np.argsort(arr2, axis=0), \"\\n\")\n",
    "print(np.sort(arr2, axis=1), \"\\n\")\n",
    "print(np.argsort(arr2, axis=1), \"\\n\")"
   ],
   "metadata": {
    "collapsed": false,
    "ExecuteTime": {
     "end_time": "2024-03-12T16:16:41.396457Z",
     "start_time": "2024-03-12T16:16:41.392914Z"
    }
   },
   "id": "722eee78541cc0ff",
   "execution_count": 15
  }
 ],
 "metadata": {
  "kernelspec": {
   "display_name": "Python 3",
   "language": "python",
   "name": "python3"
  },
  "language_info": {
   "codemirror_mode": {
    "name": "ipython",
    "version": 2
   },
   "file_extension": ".py",
   "mimetype": "text/x-python",
   "name": "python",
   "nbconvert_exporter": "python",
   "pygments_lexer": "ipython2",
   "version": "2.7.6"
  }
 },
 "nbformat": 4,
 "nbformat_minor": 5
}
