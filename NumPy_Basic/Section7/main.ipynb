{
 "cells": [
  {
   "cell_type": "code",
   "execution_count": null,
   "id": "initial_id",
   "metadata": {
    "collapsed": true
   },
   "outputs": [],
   "source": [
    "import numpy as np"
   ]
  },
  {
   "cell_type": "code",
   "outputs": [],
   "source": [
    "# 실습예제 1\n",
    "arr = np.full(shape=(3, 4, 5), fill_value=3)\n",
    "print(arr)"
   ],
   "metadata": {
    "collapsed": false
   },
   "id": "c04fb5deab12c51b",
   "execution_count": null
  },
  {
   "cell_type": "code",
   "outputs": [],
   "source": [
    "# 실습예제 2 X\n",
    "arr = np.random.randint(-50, 50, size=(4,5))\n",
    "print(arr, \"\\n\")\n",
    "\n",
    "sorted_arr = np.sort(arr, axis=1)\n",
    "print(sorted_arr, \"\\n\")\n",
    "\n",
    "print(np.ravel(sorted_arr), \"\\n\")\n",
    "print(np.sort(sorted_arr, axis=None))"
   ],
   "metadata": {
    "collapsed": false
   },
   "id": "812a0bb283130c57",
   "execution_count": null
  },
  {
   "cell_type": "code",
   "outputs": [],
   "source": [
    "# 실습예제 3 X\n",
    "py_list = [\n",
    "    np.full(3,8), \n",
    "    np.array([33, 15, 26]),\n",
    "    np.linspace(17, 26, 3)\n",
    "]\n",
    "\n",
    "result_arr = []\n",
    "for i in py_list:\n",
    "    result_arr.append(np.mean(i))\n",
    "    result_arr.append(np.std(i))\n",
    "    result_arr.append(np.median(i))\n",
    "    \n",
    "print(result_arr)"
   ],
   "metadata": {
    "collapsed": false
   },
   "id": "f7d931dfaa7b26d7",
   "execution_count": null
  },
  {
   "cell_type": "code",
   "outputs": [],
   "source": [
    "# 실습예제 4 X\n",
    "arr = np.arange(2, 20, 2).reshape((3, 3))\n",
    "print(arr, \"\\n\")\n",
    "\n",
    "sol1 = np.vsplit(arr, 3)\n",
    "print(sol1, \"\\n\")\n",
    "\n",
    "print(\" === square ===\")\n",
    "sol2 = np.square(sol1)\n",
    "print(sol2, sol2.shape, sol2.ndim, \"\\n\")\n",
    "\n",
    "print(\" === squeeze ===\")\n",
    "sol3 = np.squeeze(sol2, axis=1)\n",
    "print(sol3, \"\\n\")\n",
    "\n",
    "result_arr = np.vstack((arr, sol3))\n",
    "print(result_arr, \"\\n\")"
   ],
   "metadata": {
    "collapsed": false
   },
   "id": "4a9ed7048eab49ef",
   "execution_count": null
  },
  {
   "cell_type": "markdown",
   "source": [
    "# 실습예제 5"
   ],
   "metadata": {
    "collapsed": false
   },
   "id": "94a3ef9c3df7c6f4"
  },
  {
   "cell_type": "code",
   "outputs": [],
   "source": [
    "# X\n",
    "arr = np.array([0, 30, 60, 90])\n",
    "result = []\n",
    "result.append(np.sin(arr * np.pi / 180))\n",
    "result.append(np.cos(arr * np.pi / 180))\n",
    "result.append(np.tan(arr * np.pi / 180))\n",
    "\n",
    "for value_list in result:\n",
    "    for value in value_list:\n",
    "        if (value > 99999999):\n",
    "            print(\"INF\")\n",
    "            continue\n",
    "        print(value)\n",
    "    print()"
   ],
   "metadata": {
    "collapsed": false
   },
   "id": "308227aac6f51f27",
   "execution_count": null
  },
  {
   "cell_type": "markdown",
   "source": [
    "# 실습예제 6 X"
   ],
   "metadata": {
    "collapsed": false
   },
   "id": "93758d29629f1f63"
  },
  {
   "cell_type": "code",
   "outputs": [],
   "source": [
    "arr = np.ones((7,7), dtype=int)\n",
    "\n",
    "arr[::2, ::2] = 0\n",
    "arr[1::2, 1::2] = 0\n",
    "\n",
    "for row in range(7):\n",
    "    for col in range(7):\n",
    "        print(arr[row, col], end=\" \")\n",
    "    print()"
   ],
   "metadata": {
    "collapsed": false
   },
   "id": "befbe15fb5ec0607",
   "execution_count": null
  },
  {
   "cell_type": "markdown",
   "source": [
    "# 실습예제 7 X"
   ],
   "metadata": {
    "collapsed": false
   },
   "id": "f549c42f7faed35a"
  },
  {
   "cell_type": "code",
   "outputs": [],
   "source": [
    "arr1 = np.array([2.1, 3.5, 4.2, 2.7, 2.3, 1.9]).reshape((3,2))\n",
    "arr2 = np.array([5, 2, 3, 1, 3, 5]).reshape(2,3)\n",
    "print(np.trunc(np.dot(arr1, arr2)))"
   ],
   "metadata": {
    "collapsed": false
   },
   "id": "eda3bbda60f05806",
   "execution_count": null
  },
  {
   "cell_type": "markdown",
   "source": [
    "# 실습예제 8 X"
   ],
   "metadata": {
    "collapsed": false
   },
   "id": "b3fc7f26f919742f"
  },
  {
   "cell_type": "code",
   "outputs": [
    {
     "name": "stdout",
     "output_type": "stream",
     "text": [
      "[[ 2  4  5  6]\n",
      " [ 8 10 10 12]]\n"
     ]
    }
   ],
   "source": [
    "arr1 = np.arange(1,13).reshape(3,4)\n",
    "\n",
    "new_array = np.sort(np.append(arr1[arr1 % 2 == 0], arr1[arr1 % 5 == 0])).reshape(2,4)\n",
    "print(new_array)"
   ],
   "metadata": {
    "collapsed": false,
    "ExecuteTime": {
     "end_time": "2024-03-15T10:54:35.264963Z",
     "start_time": "2024-03-15T10:54:35.262404Z"
    }
   },
   "id": "65ff04eaf95b26b1",
   "execution_count": 83
  },
  {
   "cell_type": "markdown",
   "source": [
    "# 실습예제 9 X"
   ],
   "metadata": {
    "collapsed": false
   },
   "id": "3d4d8dea0ca90a61"
  },
  {
   "cell_type": "code",
   "outputs": [],
   "source": [
    "arr = np.random.randint(100, 150, size=(3,10))\n",
    "    \n",
    "print(arr.reshape(3,10).T)"
   ],
   "metadata": {
    "collapsed": false
   },
   "id": "211eae1f65847712",
   "execution_count": null
  },
  {
   "cell_type": "markdown",
   "source": [
    "# 실습예제 10 X"
   ],
   "metadata": {
    "collapsed": false
   },
   "id": "8bd064c1c23b2093"
  },
  {
   "cell_type": "code",
   "outputs": [],
   "source": [
    "import matplotlib.pyplot as plt\n",
    "\n",
    "randoms = 10 + np.random.rand(10000) * 10\n",
    "plt.hist(randoms, bins=100)\n",
    "plt.show()"
   ],
   "metadata": {
    "collapsed": false
   },
   "id": "676cb3ffe6fe58e1",
   "execution_count": null
  }
 ],
 "metadata": {
  "kernelspec": {
   "display_name": "Python 3",
   "language": "python",
   "name": "python3"
  },
  "language_info": {
   "codemirror_mode": {
    "name": "ipython",
    "version": 2
   },
   "file_extension": ".py",
   "mimetype": "text/x-python",
   "name": "python",
   "nbconvert_exporter": "python",
   "pygments_lexer": "ipython2",
   "version": "2.7.6"
  }
 },
 "nbformat": 4,
 "nbformat_minor": 5
}
