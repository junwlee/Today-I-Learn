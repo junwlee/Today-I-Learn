{
 "cells": [
  {
   "cell_type": "code",
   "execution_count": null,
   "id": "initial_id",
   "metadata": {
    "collapsed": true
   },
   "outputs": [],
   "source": [
    "import matplotlib.pyplot as plt\n",
    "import numpy as np"
   ]
  },
  {
   "cell_type": "code",
   "outputs": [],
   "source": [
    "arr1 = np.random.normal(1,10, 100000)\n",
    "plt.hist(arr1, bins=100)\n",
    "plt.show()"
   ],
   "metadata": {
    "collapsed": false
   },
   "id": "33d368a37fad95a7",
   "execution_count": null
  },
  {
   "cell_type": "code",
   "outputs": [],
   "source": [
    "arr2 = np.random.rand(10000)\n",
    "plt.hist(arr2, bins=100)\n",
    "plt.show()"
   ],
   "metadata": {
    "collapsed": false
   },
   "id": "c3ec668306f941e",
   "execution_count": null
  },
  {
   "cell_type": "markdown",
   "source": [
    "# np.random.randn()"
   ],
   "metadata": {
    "collapsed": false
   },
   "id": "10807c780974474a"
  },
  {
   "cell_type": "code",
   "outputs": [],
   "source": [
    "arr3 = np.random.randn(10000)\n",
    "plt.hist(arr3, bins=100)\n",
    "plt.show()"
   ],
   "metadata": {
    "collapsed": false
   },
   "id": "775e7f540024a2f8",
   "execution_count": null
  },
  {
   "cell_type": "markdown",
   "source": [
    "# np.random.randint"
   ],
   "metadata": {
    "collapsed": false
   },
   "id": "2c52de8f064e0bb9"
  },
  {
   "cell_type": "code",
   "outputs": [],
   "source": [
    "arr4 = np.random.randint(-100,100,100000)\n",
    "plt.hist(arr4, bins=100)\n",
    "plt.show()"
   ],
   "metadata": {
    "collapsed": false
   },
   "id": "2f1394ee291f8d51",
   "execution_count": null
  }
 ],
 "metadata": {
  "kernelspec": {
   "display_name": "Python 3",
   "language": "python",
   "name": "python3"
  },
  "language_info": {
   "codemirror_mode": {
    "name": "ipython",
    "version": 2
   },
   "file_extension": ".py",
   "mimetype": "text/x-python",
   "name": "python",
   "nbconvert_exporter": "python",
   "pygments_lexer": "ipython2",
   "version": "2.7.6"
  }
 },
 "nbformat": 4,
 "nbformat_minor": 5
}
