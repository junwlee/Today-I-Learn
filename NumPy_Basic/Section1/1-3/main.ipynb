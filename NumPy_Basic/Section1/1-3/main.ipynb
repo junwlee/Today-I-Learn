{
 "cells": [
  {
   "cell_type": "code",
   "execution_count": 6,
   "id": "initial_id",
   "metadata": {
    "ExecuteTime": {
     "end_time": "2024-03-25T00:48:31.878388Z",
     "start_time": "2024-03-25T00:48:31.804648Z"
    },
    "collapsed": true
   },
   "outputs": [],
   "source": [
    "import numpy as np"
   ]
  },
  {
   "cell_type": "code",
   "execution_count": null,
   "id": "26f9bd33e0fed1be",
   "metadata": {
    "ExecuteTime": {
     "end_time": "2024-03-25T00:48:34.191207Z",
     "start_time": "2024-03-25T00:48:34.189057Z"
    },
    "collapsed": false
   },
   "outputs": [],
   "source": [
    "# zeros\n",
    "\n",
    "arr1 = np.zeros([2,3], dtype=float)\n",
    "print(arr1)"
   ]
  },
  {
   "cell_type": "code",
   "execution_count": null,
   "id": "b3f659f1cd25f050",
   "metadata": {
    "ExecuteTime": {
     "end_time": "2024-03-25T00:49:04.055799Z",
     "start_time": "2024-03-25T00:49:04.053201Z"
    },
    "collapsed": false
   },
   "outputs": [],
   "source": [
    "# ones\n",
    "\n",
    "arr2 = np.ones([2,3], dtype=float)\n",
    "print(arr2)"
   ]
  },
  {
   "cell_type": "code",
   "execution_count": null,
   "id": "52af5d0a2a046de5",
   "metadata": {
    "collapsed": false
   },
   "outputs": [],
   "source": [
    "# eye\n",
    "\n",
    "arr3 = np.eye(3,3)\n",
    "print(arr3)\n",
    "arr3 = np.eye(3,3,k=-1, dtype=float)\n",
    "print(arr3)"
   ]
  },
  {
   "cell_type": "code",
   "execution_count": null,
   "id": "d8434aa3d6266b7d",
   "metadata": {
    "collapsed": false
   },
   "outputs": [],
   "source": [
    "# full\n",
    "\n",
    "arr4 = np.full([3,4], 7, dtype=float)\n",
    "print(arr4)"
   ]
  },
  {
   "cell_type": "code",
   "execution_count": null,
   "id": "eeadefef02f5dacb",
   "metadata": {
    "collapsed": false
   },
   "outputs": [],
   "source": [
    "# zeros_like\n",
    "\n",
    "arr = np.array([[1,2,3],[4,5,6]])\n",
    "\n",
    "arr_z = np.zeros_like(arr)\n",
    "print(arr_z)"
   ]
  },
  {
   "cell_type": "code",
   "execution_count": null,
   "id": "7f8778e708a13d3",
   "metadata": {
    "collapsed": false
   },
   "outputs": [],
   "source": [
    "# ones_like\n",
    "\n",
    "arr_o = np.ones_like(arr, dtype=str)\n",
    "print(arr_o)"
   ]
  },
  {
   "cell_type": "code",
   "execution_count": null,
   "id": "38e22e8c98fcbf32",
   "metadata": {
    "collapsed": false
   },
   "outputs": [],
   "source": [
    "# full_like\n",
    "\n",
    "arr_f = np.full_like(arr, 7, dtype=float)\n",
    "print(arr_f)"
   ]
  }
 ],
 "metadata": {
  "kernelspec": {
   "display_name": "Python 3",
   "language": "python",
   "name": "python3"
  },
  "language_info": {
   "codemirror_mode": {
    "name": "ipython",
    "version": 3
   },
   "file_extension": ".py",
   "mimetype": "text/x-python",
   "name": "python",
   "nbconvert_exporter": "python",
   "pygments_lexer": "ipython3",
   "version": "3.11.8"
  }
 },
 "nbformat": 4,
 "nbformat_minor": 5
}
