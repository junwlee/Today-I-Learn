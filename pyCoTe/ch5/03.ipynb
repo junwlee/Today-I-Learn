{
 "cells": [
  {
   "cell_type": "markdown",
   "metadata": {},
   "source": [
    "https://programmers.co.kr/learn/courses/30/lessons/68644"
   ]
  },
  {
   "cell_type": "code",
   "execution_count": 10,
   "metadata": {},
   "outputs": [
    {
     "name": "stdout",
     "output_type": "stream",
     "text": [
      "[2, 3, 4, 5, 6, 7]\n"
     ]
    }
   ],
   "source": [
    "from itertools import *\n",
    "\n",
    "def solution(arr):\n",
    "    new = list(permutations(arr,2))\n",
    "\n",
    "    rs = []\n",
    "    for i in range(len(new) - 1):\n",
    "        rs.append(sum(new[i]))\n",
    "\n",
    "    return list(set(rs))\n",
    "\n",
    "print(solution([2, 1, 3, 4, 1]))\n",
    "\n",
    "# Commentary\n",
    "# This code generates all combinations first and then calculates their sums, \n",
    "# which results in slower actual execution time due to the creation of unnecessary combinations."
   ]
  },
  {
   "cell_type": "code",
   "execution_count": null,
   "metadata": {},
   "outputs": [],
   "source": [
    "# 정답\n",
    "\n",
    "def solution(numbers):\n",
    "  ret = [ ]  # ➊ 빈 배열 생성\n",
    "  # ➋ 두 수를 선택하는 모든 경우의 수를 반복문으로 구함\n",
    "  for i in range(len(numbers)):\n",
    "    for j in range(i + 1, len(numbers)):\n",
    "      # ➌ 두 수를 더한 결과를 새로운 배열에 추가\n",
    "      ret.append(numbers[i] + numbers[j])\n",
    "  # ➍ 중복된 값을 제거하고, 오름차순으로 정렬\n",
    "  ret = sorted(set(ret))\n",
    "  return ret  # ➎ 최종 결과 반환"
   ]
  }
 ],
 "metadata": {
  "kernelspec": {
   "display_name": "Python 3",
   "language": "python",
   "name": "python3"
  },
  "language_info": {
   "codemirror_mode": {
    "name": "ipython",
    "version": 3
   },
   "file_extension": ".py",
   "mimetype": "text/x-python",
   "name": "python",
   "nbconvert_exporter": "python",
   "pygments_lexer": "ipython3",
   "version": "3.11.8"
  }
 },
 "nbformat": 4,
 "nbformat_minor": 2
}
