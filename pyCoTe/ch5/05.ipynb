{
 "cells": [
  {
   "cell_type": "code",
   "execution_count": null,
   "metadata": {},
   "outputs": [],
   "source": [
    "# Answer\n",
    "\n",
    "def solution(arr1, arr2):\n",
    "  # ➊ 행렬 arr1과 arr2의 행과 열의 수\n",
    "  r1, c1 = len(arr1), len(arr1[0])\n",
    "  r2, c2 = len(arr2), len(arr2[0])\n",
    "  \n",
    "  # ➋ 결과를 저장할 2차원 리스트 초기화\n",
    "  ret = [[0] * c2 for _ in range(r1)]\n",
    "\n",
    "  # ➌ 첫 번째 행렬 arr1의 각 행과 두 번째 행렬 arr2의 각 열에 대해\n",
    "  for i in range(r1): # 가장 늦게 업데이트\n",
    "    for j in range(c2):\n",
    "      # ➍ 두 행렬의 데이터를 곱해 결과 리스트에 더해줌\n",
    "      for k in range(c1):\n",
    "        ret[i][j] += arr1[i][k] * arr2[k][j]\n",
    "  return ret"
   ]
  },
  {
   "cell_type": "markdown",
   "metadata": {},
   "source": [
    "## 해설\n",
    "\n",
    "1. 행렬 곱셈의 규칙에 따라, arr1의 i번째 행의 각 원소와 arr2의 j번째 열의 각 원소를 순서대로 곱하고, 그 결과를 모두 더해서 새 행렬의 (i, j) 위치에 저장해야 한다.\n",
    "2.  이 과정에서 k는 arr1의 i번째 행의 요소들과 arr2의 j번째 열의 요소들을 가리키는 인덱스 역할을 한다.\n",
    "3. 변수 k가 필요한 이유는, 행렬 곱셈에서 한 행과 한 열을 이루는 모든 요소들의 곱셈 결과를 단계별로 더해 최종 결과를 얻기 위해서."
   ]
  }
 ],
 "metadata": {
  "kernelspec": {
   "display_name": "Python 3",
   "language": "python",
   "name": "python3"
  },
  "language_info": {
   "name": "python",
   "version": "3.11.8"
  }
 },
 "nbformat": 4,
 "nbformat_minor": 2
}
