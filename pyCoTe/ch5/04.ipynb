{
 "cells": [
  {
   "cell_type": "markdown",
   "metadata": {},
   "source": [
    "1. [두 개 리스트 비교하는 방법](https://dubudata.tistory.com/85)"
   ]
  },
  {
   "cell_type": "code",
   "execution_count": 6,
   "metadata": {},
   "outputs": [
    {
     "name": "stdout",
     "output_type": "stream",
     "text": [
      "[1, 2, 3, 4, 5, 1, 2, 3, 4, 5] [3, 4, 6, 3, 5, 3, 4, 6, 3, 5]\n",
      "6\n",
      "6\n"
     ]
    }
   ],
   "source": [
    "import random\n",
    "\n",
    "list1 = [i for i in range(1,6)] * 2\n",
    "answers = [random.randint(1,5) for _ in range(5)] * 2\n",
    "\n",
    "print(list1, answers)\n",
    "\n",
    "for i in answers:\n",
    "    if i not in list1:\n",
    "        print(i)"
   ]
  }
 ],
 "metadata": {
  "kernelspec": {
   "display_name": "Python 3",
   "language": "python",
   "name": "python3"
  },
  "language_info": {
   "codemirror_mode": {
    "name": "ipython",
    "version": 3
   },
   "file_extension": ".py",
   "mimetype": "text/x-python",
   "name": "python",
   "nbconvert_exporter": "python",
   "pygments_lexer": "ipython3",
   "version": "3.11.8"
  }
 },
 "nbformat": 4,
 "nbformat_minor": 2
}
