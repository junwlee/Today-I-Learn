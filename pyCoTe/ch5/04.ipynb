{
 "cells": [
  {
   "cell_type": "markdown",
   "metadata": {},
   "source": [
    "# 1. [두 개 리스트 비교하는 방법](https://dubudata.tistory.com/85)"
   ]
  },
  {
   "cell_type": "markdown",
   "metadata": {},
   "source": [
    "# 2. 각 집합의 길이를 비교하여 가장 긴 집합을 찾기\n",
    "\n",
    "#### 세 개의 집합 정의\n",
    "set1 = {1, 2, 3, 4, 5}\n",
    "set2 = {4, 5, 6, 7, 8, 9}\n",
    "set3 = {1, 10}\n",
    "\n",
    "#### 집합의 이름과 집합을 튜플로 묶어 리스트 생성\n",
    "sets = [(\"set1\", set1), (\"set2\", set2), (\"set3\", set3)]\n",
    "- max 함수는 key 매개변수를 통해 제공된 함수의 반환 값에 따라 최댓값을 결정\n",
    "\n",
    "#### 요소의 개수가 가장 많은 집합을 찾기\n",
    "largest_set_name, largest_set = max(sets, key=lambda x: len(x[1]))"
   ]
  },
  {
   "cell_type": "code",
   "execution_count": 10,
   "metadata": {},
   "outputs": [
    {
     "name": "stdout",
     "output_type": "stream",
     "text": [
      "{1, 3, 4, 5}\n"
     ]
    }
   ],
   "source": [
    "import random\n",
    "\n",
    "list1 = [i for i in range(1,6)] * 2\n",
    "list2 = [2,1,2,3,2,4,2,5] * 2\n",
    "list3 = [3,3,1,1,2,2,4,4,5,5] * 2\n",
    "\n",
    "set1 = set(list1)\n",
    "set2 = set(list2)\n",
    "set3 = set(list3)\n",
    "\n",
    "answers = [random.randint(1,5) for _ in range(5)] * 2\n",
    "answer_set = set(answers)\n",
    "\n",
    "common_elements_1 = set1.intersection(answer_set)\n",
    "common_elements_2 = set2.intersection(answer_set)\n",
    "common_elements_3 = set3.intersection(answer_set)\n",
    "\n",
    "print(max(common_elements_1, common_elements_2, common_elements_3, key=len))"
   ]
  },
  {
   "cell_type": "code",
   "execution_count": null,
   "metadata": {},
   "outputs": [],
   "source": [
    "# Answer\n",
    "\n",
    "def solution(answers):\n",
    "  # ➊ 수포자들의 패턴\n",
    "  patterns = [\n",
    "    [1, 2, 3, 4, 5], \n",
    "    [2, 1, 2, 3, 2, 4, 2, 5], \n",
    "    [3, 3, 1, 1, 2, 2, 4, 4, 5, 5]\n",
    "  ] \n",
    "  # ➋ 수포자들의 점수를 저장할 리스트\n",
    "  scores = [0] * 3    \n",
    "  # ➌ 각 수포자의 패턴과 정답이 얼마나 일치하는지 확인\n",
    "  for i, answer in enumerate(answers):\n",
    "    for j, pattern in enumerate(patterns):\n",
    "      if answer == pattern[i % len(pattern)]:\n",
    "        scores[j] += 1  \n",
    "  # ➍ 가장 높은 점수 저장\n",
    "  max_score = max(scores)\n",
    "  # ➎ 가장 높은 점수를 가진 수포자들의 번호를 찾아서 리스트에 담음\n",
    "  highest_scores = [ ]\n",
    "  for i, score in enumerate(scores):\n",
    "    if score == max_score:\n",
    "      highest_scores.append(i + 1)\n",
    "  return highest_scores"
   ]
  }
 ],
 "metadata": {
  "kernelspec": {
   "display_name": "Python 3",
   "language": "python",
   "name": "python3"
  },
  "language_info": {
   "codemirror_mode": {
    "name": "ipython",
    "version": 3
   },
   "file_extension": ".py",
   "mimetype": "text/x-python",
   "name": "python",
   "nbconvert_exporter": "python",
   "pygments_lexer": "ipython3",
   "version": "3.11.8"
  }
 },
 "nbformat": 4,
 "nbformat_minor": 2
}
