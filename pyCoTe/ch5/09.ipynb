{
 "cells": [
  {
   "cell_type": "code",
   "execution_count": 11,
   "metadata": {},
   "outputs": [
    {
     "name": "stdout",
     "output_type": "stream",
     "text": [
      "1101\n"
     ]
    }
   ],
   "source": [
    "def solution(decimal):\n",
    "    stack = []\n",
    "    while decimal > 0:\n",
    "        remainder = decimal % 2\n",
    "        stack.append(str(remainder))\n",
    "        decimal //= 2\n",
    "    binary = ''.join(reversed(stack))\n",
    "\n",
    "    return binary\n",
    "\n",
    "print(solution(13))\n",
    "\n",
    "# Commentary\n",
    "# binary 변수에 빈 문자열 ''을 할당한 후, stack 리스트의 요소들을 역순으로 합친 새로운 문자열을 join을 통해 생성하고, \n",
    "# 이 새로운 문자열을 binary에 다시 할당.\n",
    "# 이 과정은 binary 변수의 값이 join 연산을 할 때마다 바뀌는 것이 아니라, \n",
    "# join 연산이 끝난 후 최종적으로 한 번만 업데이트.\n"
   ]
  },
  {
   "cell_type": "code",
   "execution_count": 12,
   "metadata": {},
   "outputs": [
    {
     "name": "stdout",
     "output_type": "stream",
     "text": [
      "1101\n"
     ]
    }
   ],
   "source": [
    "# Answer2\n",
    "\n",
    "def solution(decimal):\n",
    "    stack = []\n",
    "    while decimal > 0:\n",
    "        remainder = decimal % 2\n",
    "        stack.append(str(remainder))\n",
    "        decimal //= 2\n",
    "    binary = \"\"\n",
    "    while stack:\n",
    "        binary += stack.pop()\n",
    "\n",
    "    return binary\n",
    "\n",
    "print(solution(13))"
   ]
  },
  {
   "cell_type": "code",
   "execution_count": 13,
   "metadata": {},
   "outputs": [
    {
     "name": "stdout",
     "output_type": "stream",
     "text": [
      "1101\n"
     ]
    }
   ],
   "source": [
    "# 내장함수\n",
    "\n",
    "def solution(decimal):\n",
    "    return bin(decimal)[2:] # bin 함수는 결과 문자열의 앞에 '0b' 접두사를 붙여 반환\n",
    "\n",
    "print(solution(13))\n"
   ]
  }
 ],
 "metadata": {
  "kernelspec": {
   "display_name": "Python 3",
   "language": "python",
   "name": "python3"
  },
  "language_info": {
   "codemirror_mode": {
    "name": "ipython",
    "version": 3
   },
   "file_extension": ".py",
   "mimetype": "text/x-python",
   "name": "python",
   "nbconvert_exporter": "python",
   "pygments_lexer": "ipython3",
   "version": "3.11.8"
  }
 },
 "nbformat": 4,
 "nbformat_minor": 2
}
