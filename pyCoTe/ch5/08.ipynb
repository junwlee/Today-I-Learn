{
 "cells": [
  {
   "cell_type": "code",
   "execution_count": 2,
   "metadata": {},
   "outputs": [
    {
     "name": "stdout",
     "output_type": "stream",
     "text": [
      "True\n",
      "False\n",
      "False\n"
     ]
    }
   ],
   "source": [
    "def solution(arr):\n",
    "    stack = []\n",
    "\n",
    "    for e in arr:\n",
    "        if e == \"(\":\n",
    "            stack.append(e)\n",
    "        elif e == \")\":\n",
    "            if not stack:\n",
    "                return False\n",
    "            else:\n",
    "                stack.pop()\n",
    "    if stack:\n",
    "        return False\n",
    "    else:\n",
    "        return True\n",
    "    \n",
    "\n",
    "arr1 = [ \"(\", \"(\", \")\", \")\"]\n",
    "print(solution(arr1))\n",
    "\n",
    "arr2 = [ \"(\", \"(\", \")\", \")\", \")\"]\n",
    "print(solution(arr2))\n",
    "\n",
    "arr3 = [ \"(\", \"(\", \")\", \")\", \"(\"]\n",
    "print(solution(arr3))"
   ]
  }
 ],
 "metadata": {
  "kernelspec": {
   "display_name": "Python 3",
   "language": "python",
   "name": "python3"
  },
  "language_info": {
   "codemirror_mode": {
    "name": "ipython",
    "version": 3
   },
   "file_extension": ".py",
   "mimetype": "text/x-python",
   "name": "python",
   "nbconvert_exporter": "python",
   "pygments_lexer": "ipython3",
   "version": "3.11.8"
  }
 },
 "nbformat": 4,
 "nbformat_minor": 2
}
